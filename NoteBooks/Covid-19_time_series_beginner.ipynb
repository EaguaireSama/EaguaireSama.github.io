{
 "cells": [
  {
   "cell_type": "code",
   "execution_count": 1,
   "metadata": {},
   "outputs": [],
   "source": [
    "import pandas as pd\n",
    "import numpy as np"
   ]
  },
  {
   "cell_type": "code",
   "execution_count": 2,
   "metadata": {},
   "outputs": [],
   "source": [
    "df = pd.read_csv('Data/covid_19_india.csv')"
   ]
  },
  {
   "cell_type": "code",
   "execution_count": 3,
   "metadata": {},
   "outputs": [],
   "source": [
    "df2 = pd.read_csv('Data/StatewiseTestingDetails.csv')"
   ]
  },
  {
   "cell_type": "code",
   "execution_count": 4,
   "metadata": {},
   "outputs": [
    {
     "data": {
      "text/plain": [
       "(9291, 9)"
      ]
     },
     "execution_count": 4,
     "metadata": {},
     "output_type": "execute_result"
    }
   ],
   "source": [
    "df.shape\n"
   ]
  },
  {
   "cell_type": "code",
   "execution_count": 5,
   "metadata": {},
   "outputs": [
    {
     "data": {
      "text/plain": [
       "11/06/20    37\n",
       "14/07/20    36\n",
       "04/06/20    36\n",
       "23/06/20    36\n",
       "29/06/20    36\n",
       "            ..\n",
       "01/02/20     1\n",
       "11/02/20     1\n",
       "09/02/20     1\n",
       "01/03/20     1\n",
       "12/02/20     1\n",
       "Name: Date, Length: 315, dtype: int64"
      ]
     },
     "execution_count": 5,
     "metadata": {},
     "output_type": "execute_result"
    }
   ],
   "source": [
    "df.Date.value_counts()"
   ]
  },
  {
   "cell_type": "code",
   "execution_count": 6,
   "metadata": {},
   "outputs": [
    {
     "data": {
      "text/html": [
       "<div>\n",
       "<style scoped>\n",
       "    .dataframe tbody tr th:only-of-type {\n",
       "        vertical-align: middle;\n",
       "    }\n",
       "\n",
       "    .dataframe tbody tr th {\n",
       "        vertical-align: top;\n",
       "    }\n",
       "\n",
       "    .dataframe thead th {\n",
       "        text-align: right;\n",
       "    }\n",
       "</style>\n",
       "<table border=\"1\" class=\"dataframe\">\n",
       "  <thead>\n",
       "    <tr style=\"text-align: right;\">\n",
       "      <th></th>\n",
       "      <th>Sno</th>\n",
       "      <th>Date</th>\n",
       "      <th>Time</th>\n",
       "      <th>State/UnionTerritory</th>\n",
       "      <th>ConfirmedIndianNational</th>\n",
       "      <th>ConfirmedForeignNational</th>\n",
       "      <th>Cured</th>\n",
       "      <th>Deaths</th>\n",
       "      <th>Confirmed</th>\n",
       "    </tr>\n",
       "  </thead>\n",
       "  <tbody>\n",
       "    <tr>\n",
       "      <td>3351</td>\n",
       "      <td>3352</td>\n",
       "      <td>24/06/20</td>\n",
       "      <td>8:00 AM</td>\n",
       "      <td>Andaman and Nicobar Islands</td>\n",
       "      <td>-</td>\n",
       "      <td>-</td>\n",
       "      <td>40</td>\n",
       "      <td>0</td>\n",
       "      <td>50</td>\n",
       "    </tr>\n",
       "    <tr>\n",
       "      <td>3352</td>\n",
       "      <td>3353</td>\n",
       "      <td>24/06/20</td>\n",
       "      <td>8:00 AM</td>\n",
       "      <td>Andhra Pradesh</td>\n",
       "      <td>-</td>\n",
       "      <td>-</td>\n",
       "      <td>4599</td>\n",
       "      <td>119</td>\n",
       "      <td>10002</td>\n",
       "    </tr>\n",
       "    <tr>\n",
       "      <td>3353</td>\n",
       "      <td>3354</td>\n",
       "      <td>24/06/20</td>\n",
       "      <td>8:00 AM</td>\n",
       "      <td>Arunachal Pradesh</td>\n",
       "      <td>-</td>\n",
       "      <td>-</td>\n",
       "      <td>22</td>\n",
       "      <td>0</td>\n",
       "      <td>148</td>\n",
       "    </tr>\n",
       "    <tr>\n",
       "      <td>3354</td>\n",
       "      <td>3355</td>\n",
       "      <td>24/06/20</td>\n",
       "      <td>8:00 AM</td>\n",
       "      <td>Assam</td>\n",
       "      <td>-</td>\n",
       "      <td>-</td>\n",
       "      <td>3762</td>\n",
       "      <td>9</td>\n",
       "      <td>5831</td>\n",
       "    </tr>\n",
       "    <tr>\n",
       "      <td>3355</td>\n",
       "      <td>3356</td>\n",
       "      <td>24/06/20</td>\n",
       "      <td>8:00 AM</td>\n",
       "      <td>Bihar</td>\n",
       "      <td>-</td>\n",
       "      <td>-</td>\n",
       "      <td>6104</td>\n",
       "      <td>56</td>\n",
       "      <td>8153</td>\n",
       "    </tr>\n",
       "    <tr>\n",
       "      <td>3356</td>\n",
       "      <td>3357</td>\n",
       "      <td>24/06/20</td>\n",
       "      <td>8:00 AM</td>\n",
       "      <td>Chandigarh</td>\n",
       "      <td>-</td>\n",
       "      <td>-</td>\n",
       "      <td>322</td>\n",
       "      <td>6</td>\n",
       "      <td>418</td>\n",
       "    </tr>\n",
       "    <tr>\n",
       "      <td>3357</td>\n",
       "      <td>3358</td>\n",
       "      <td>24/06/20</td>\n",
       "      <td>8:00 AM</td>\n",
       "      <td>Chhattisgarh</td>\n",
       "      <td>-</td>\n",
       "      <td>-</td>\n",
       "      <td>1553</td>\n",
       "      <td>12</td>\n",
       "      <td>2362</td>\n",
       "    </tr>\n",
       "    <tr>\n",
       "      <td>3358</td>\n",
       "      <td>3359</td>\n",
       "      <td>24/06/20</td>\n",
       "      <td>8:00 AM</td>\n",
       "      <td>Dadra and Nagar Haveli and Daman and Diu</td>\n",
       "      <td>-</td>\n",
       "      <td>-</td>\n",
       "      <td>29</td>\n",
       "      <td>0</td>\n",
       "      <td>120</td>\n",
       "    </tr>\n",
       "    <tr>\n",
       "      <td>3359</td>\n",
       "      <td>3360</td>\n",
       "      <td>24/06/20</td>\n",
       "      <td>8:00 AM</td>\n",
       "      <td>Delhi</td>\n",
       "      <td>-</td>\n",
       "      <td>-</td>\n",
       "      <td>39313</td>\n",
       "      <td>2301</td>\n",
       "      <td>66602</td>\n",
       "    </tr>\n",
       "    <tr>\n",
       "      <td>3360</td>\n",
       "      <td>3361</td>\n",
       "      <td>24/06/20</td>\n",
       "      <td>8:00 AM</td>\n",
       "      <td>Goa</td>\n",
       "      <td>-</td>\n",
       "      <td>-</td>\n",
       "      <td>205</td>\n",
       "      <td>1</td>\n",
       "      <td>909</td>\n",
       "    </tr>\n",
       "    <tr>\n",
       "      <td>3361</td>\n",
       "      <td>3362</td>\n",
       "      <td>24/06/20</td>\n",
       "      <td>8:00 AM</td>\n",
       "      <td>Gujarat</td>\n",
       "      <td>-</td>\n",
       "      <td>-</td>\n",
       "      <td>20513</td>\n",
       "      <td>1710</td>\n",
       "      <td>28371</td>\n",
       "    </tr>\n",
       "    <tr>\n",
       "      <td>3362</td>\n",
       "      <td>3363</td>\n",
       "      <td>24/06/20</td>\n",
       "      <td>8:00 AM</td>\n",
       "      <td>Haryana</td>\n",
       "      <td>-</td>\n",
       "      <td>-</td>\n",
       "      <td>6498</td>\n",
       "      <td>178</td>\n",
       "      <td>11520</td>\n",
       "    </tr>\n",
       "    <tr>\n",
       "      <td>3363</td>\n",
       "      <td>3364</td>\n",
       "      <td>24/06/20</td>\n",
       "      <td>8:00 AM</td>\n",
       "      <td>Himachal Pradesh</td>\n",
       "      <td>-</td>\n",
       "      <td>-</td>\n",
       "      <td>443</td>\n",
       "      <td>8</td>\n",
       "      <td>775</td>\n",
       "    </tr>\n",
       "    <tr>\n",
       "      <td>3364</td>\n",
       "      <td>3365</td>\n",
       "      <td>24/06/20</td>\n",
       "      <td>8:00 AM</td>\n",
       "      <td>Jammu and Kashmir</td>\n",
       "      <td>-</td>\n",
       "      <td>-</td>\n",
       "      <td>3642</td>\n",
       "      <td>87</td>\n",
       "      <td>6236</td>\n",
       "    </tr>\n",
       "    <tr>\n",
       "      <td>3365</td>\n",
       "      <td>3366</td>\n",
       "      <td>24/06/20</td>\n",
       "      <td>8:00 AM</td>\n",
       "      <td>Jharkhand</td>\n",
       "      <td>-</td>\n",
       "      <td>-</td>\n",
       "      <td>1520</td>\n",
       "      <td>11</td>\n",
       "      <td>2185</td>\n",
       "    </tr>\n",
       "    <tr>\n",
       "      <td>3366</td>\n",
       "      <td>3367</td>\n",
       "      <td>24/06/20</td>\n",
       "      <td>8:00 AM</td>\n",
       "      <td>Karnataka</td>\n",
       "      <td>-</td>\n",
       "      <td>-</td>\n",
       "      <td>6004</td>\n",
       "      <td>150</td>\n",
       "      <td>9721</td>\n",
       "    </tr>\n",
       "    <tr>\n",
       "      <td>3367</td>\n",
       "      <td>3368</td>\n",
       "      <td>24/06/20</td>\n",
       "      <td>8:00 AM</td>\n",
       "      <td>Kerala</td>\n",
       "      <td>-</td>\n",
       "      <td>-</td>\n",
       "      <td>1809</td>\n",
       "      <td>22</td>\n",
       "      <td>3451</td>\n",
       "    </tr>\n",
       "    <tr>\n",
       "      <td>3368</td>\n",
       "      <td>3369</td>\n",
       "      <td>24/06/20</td>\n",
       "      <td>8:00 AM</td>\n",
       "      <td>Ladakh</td>\n",
       "      <td>-</td>\n",
       "      <td>-</td>\n",
       "      <td>148</td>\n",
       "      <td>1</td>\n",
       "      <td>932</td>\n",
       "    </tr>\n",
       "    <tr>\n",
       "      <td>3369</td>\n",
       "      <td>3370</td>\n",
       "      <td>24/06/20</td>\n",
       "      <td>8:00 AM</td>\n",
       "      <td>Madhya Pradesh</td>\n",
       "      <td>-</td>\n",
       "      <td>-</td>\n",
       "      <td>9335</td>\n",
       "      <td>525</td>\n",
       "      <td>12261</td>\n",
       "    </tr>\n",
       "    <tr>\n",
       "      <td>3370</td>\n",
       "      <td>3371</td>\n",
       "      <td>24/06/20</td>\n",
       "      <td>8:00 AM</td>\n",
       "      <td>Maharashtra</td>\n",
       "      <td>-</td>\n",
       "      <td>-</td>\n",
       "      <td>69631</td>\n",
       "      <td>6531</td>\n",
       "      <td>139010</td>\n",
       "    </tr>\n",
       "    <tr>\n",
       "      <td>3371</td>\n",
       "      <td>3372</td>\n",
       "      <td>24/06/20</td>\n",
       "      <td>8:00 AM</td>\n",
       "      <td>Manipur</td>\n",
       "      <td>-</td>\n",
       "      <td>-</td>\n",
       "      <td>258</td>\n",
       "      <td>0</td>\n",
       "      <td>921</td>\n",
       "    </tr>\n",
       "    <tr>\n",
       "      <td>3372</td>\n",
       "      <td>3373</td>\n",
       "      <td>24/06/20</td>\n",
       "      <td>8:00 AM</td>\n",
       "      <td>Meghalaya</td>\n",
       "      <td>-</td>\n",
       "      <td>-</td>\n",
       "      <td>37</td>\n",
       "      <td>1</td>\n",
       "      <td>46</td>\n",
       "    </tr>\n",
       "    <tr>\n",
       "      <td>3373</td>\n",
       "      <td>3374</td>\n",
       "      <td>24/06/20</td>\n",
       "      <td>8:00 AM</td>\n",
       "      <td>Mizoram</td>\n",
       "      <td>-</td>\n",
       "      <td>-</td>\n",
       "      <td>9</td>\n",
       "      <td>0</td>\n",
       "      <td>142</td>\n",
       "    </tr>\n",
       "    <tr>\n",
       "      <td>3374</td>\n",
       "      <td>3375</td>\n",
       "      <td>24/06/20</td>\n",
       "      <td>8:00 AM</td>\n",
       "      <td>Nagaland</td>\n",
       "      <td>-</td>\n",
       "      <td>-</td>\n",
       "      <td>141</td>\n",
       "      <td>0</td>\n",
       "      <td>330</td>\n",
       "    </tr>\n",
       "    <tr>\n",
       "      <td>3375</td>\n",
       "      <td>3376</td>\n",
       "      <td>24/06/20</td>\n",
       "      <td>8:00 AM</td>\n",
       "      <td>Odisha</td>\n",
       "      <td>-</td>\n",
       "      <td>-</td>\n",
       "      <td>3988</td>\n",
       "      <td>17</td>\n",
       "      <td>5470</td>\n",
       "    </tr>\n",
       "    <tr>\n",
       "      <td>3376</td>\n",
       "      <td>3377</td>\n",
       "      <td>24/06/20</td>\n",
       "      <td>8:00 AM</td>\n",
       "      <td>Puducherry</td>\n",
       "      <td>-</td>\n",
       "      <td>-</td>\n",
       "      <td>165</td>\n",
       "      <td>9</td>\n",
       "      <td>402</td>\n",
       "    </tr>\n",
       "    <tr>\n",
       "      <td>3377</td>\n",
       "      <td>3378</td>\n",
       "      <td>24/06/20</td>\n",
       "      <td>8:00 AM</td>\n",
       "      <td>Punjab</td>\n",
       "      <td>-</td>\n",
       "      <td>-</td>\n",
       "      <td>3047</td>\n",
       "      <td>105</td>\n",
       "      <td>4397</td>\n",
       "    </tr>\n",
       "    <tr>\n",
       "      <td>3378</td>\n",
       "      <td>3379</td>\n",
       "      <td>24/06/20</td>\n",
       "      <td>8:00 AM</td>\n",
       "      <td>Rajasthan</td>\n",
       "      <td>-</td>\n",
       "      <td>-</td>\n",
       "      <td>12213</td>\n",
       "      <td>365</td>\n",
       "      <td>15627</td>\n",
       "    </tr>\n",
       "    <tr>\n",
       "      <td>3379</td>\n",
       "      <td>3380</td>\n",
       "      <td>24/06/20</td>\n",
       "      <td>8:00 AM</td>\n",
       "      <td>Sikkim</td>\n",
       "      <td>-</td>\n",
       "      <td>-</td>\n",
       "      <td>29</td>\n",
       "      <td>0</td>\n",
       "      <td>79</td>\n",
       "    </tr>\n",
       "    <tr>\n",
       "      <td>3380</td>\n",
       "      <td>3381</td>\n",
       "      <td>24/06/20</td>\n",
       "      <td>8:00 AM</td>\n",
       "      <td>Tamil Nadu</td>\n",
       "      <td>-</td>\n",
       "      <td>-</td>\n",
       "      <td>35339</td>\n",
       "      <td>833</td>\n",
       "      <td>64603</td>\n",
       "    </tr>\n",
       "    <tr>\n",
       "      <td>3381</td>\n",
       "      <td>3382</td>\n",
       "      <td>24/06/20</td>\n",
       "      <td>8:00 AM</td>\n",
       "      <td>Telangana</td>\n",
       "      <td>-</td>\n",
       "      <td>-</td>\n",
       "      <td>4224</td>\n",
       "      <td>220</td>\n",
       "      <td>9553</td>\n",
       "    </tr>\n",
       "    <tr>\n",
       "      <td>3382</td>\n",
       "      <td>3383</td>\n",
       "      <td>24/06/20</td>\n",
       "      <td>8:00 AM</td>\n",
       "      <td>Tripura</td>\n",
       "      <td>-</td>\n",
       "      <td>-</td>\n",
       "      <td>807</td>\n",
       "      <td>1</td>\n",
       "      <td>1259</td>\n",
       "    </tr>\n",
       "    <tr>\n",
       "      <td>3383</td>\n",
       "      <td>3384</td>\n",
       "      <td>24/06/20</td>\n",
       "      <td>8:00 AM</td>\n",
       "      <td>Uttarakhand</td>\n",
       "      <td>-</td>\n",
       "      <td>-</td>\n",
       "      <td>1602</td>\n",
       "      <td>30</td>\n",
       "      <td>2535</td>\n",
       "    </tr>\n",
       "    <tr>\n",
       "      <td>3384</td>\n",
       "      <td>3385</td>\n",
       "      <td>24/06/20</td>\n",
       "      <td>8:00 AM</td>\n",
       "      <td>Uttar Pradesh</td>\n",
       "      <td>-</td>\n",
       "      <td>-</td>\n",
       "      <td>12116</td>\n",
       "      <td>588</td>\n",
       "      <td>18893</td>\n",
       "    </tr>\n",
       "    <tr>\n",
       "      <td>3385</td>\n",
       "      <td>3386</td>\n",
       "      <td>24/06/20</td>\n",
       "      <td>8:00 AM</td>\n",
       "      <td>West Bengal</td>\n",
       "      <td>-</td>\n",
       "      <td>-</td>\n",
       "      <td>9218</td>\n",
       "      <td>580</td>\n",
       "      <td>14728</td>\n",
       "    </tr>\n",
       "    <tr>\n",
       "      <td>3386</td>\n",
       "      <td>3387</td>\n",
       "      <td>24/06/20</td>\n",
       "      <td>8:00 AM</td>\n",
       "      <td>Cases being reassigned to states</td>\n",
       "      <td>-</td>\n",
       "      <td>-</td>\n",
       "      <td>0</td>\n",
       "      <td>0</td>\n",
       "      <td>8141</td>\n",
       "    </tr>\n",
       "  </tbody>\n",
       "</table>\n",
       "</div>"
      ],
      "text/plain": [
       "       Sno      Date     Time                      State/UnionTerritory  \\\n",
       "3351  3352  24/06/20  8:00 AM               Andaman and Nicobar Islands   \n",
       "3352  3353  24/06/20  8:00 AM                            Andhra Pradesh   \n",
       "3353  3354  24/06/20  8:00 AM                         Arunachal Pradesh   \n",
       "3354  3355  24/06/20  8:00 AM                                     Assam   \n",
       "3355  3356  24/06/20  8:00 AM                                     Bihar   \n",
       "3356  3357  24/06/20  8:00 AM                                Chandigarh   \n",
       "3357  3358  24/06/20  8:00 AM                              Chhattisgarh   \n",
       "3358  3359  24/06/20  8:00 AM  Dadra and Nagar Haveli and Daman and Diu   \n",
       "3359  3360  24/06/20  8:00 AM                                     Delhi   \n",
       "3360  3361  24/06/20  8:00 AM                                       Goa   \n",
       "3361  3362  24/06/20  8:00 AM                                   Gujarat   \n",
       "3362  3363  24/06/20  8:00 AM                                   Haryana   \n",
       "3363  3364  24/06/20  8:00 AM                          Himachal Pradesh   \n",
       "3364  3365  24/06/20  8:00 AM                         Jammu and Kashmir   \n",
       "3365  3366  24/06/20  8:00 AM                                 Jharkhand   \n",
       "3366  3367  24/06/20  8:00 AM                                 Karnataka   \n",
       "3367  3368  24/06/20  8:00 AM                                    Kerala   \n",
       "3368  3369  24/06/20  8:00 AM                                    Ladakh   \n",
       "3369  3370  24/06/20  8:00 AM                            Madhya Pradesh   \n",
       "3370  3371  24/06/20  8:00 AM                               Maharashtra   \n",
       "3371  3372  24/06/20  8:00 AM                                   Manipur   \n",
       "3372  3373  24/06/20  8:00 AM                                 Meghalaya   \n",
       "3373  3374  24/06/20  8:00 AM                                   Mizoram   \n",
       "3374  3375  24/06/20  8:00 AM                                  Nagaland   \n",
       "3375  3376  24/06/20  8:00 AM                                    Odisha   \n",
       "3376  3377  24/06/20  8:00 AM                                Puducherry   \n",
       "3377  3378  24/06/20  8:00 AM                                    Punjab   \n",
       "3378  3379  24/06/20  8:00 AM                                 Rajasthan   \n",
       "3379  3380  24/06/20  8:00 AM                                    Sikkim   \n",
       "3380  3381  24/06/20  8:00 AM                                Tamil Nadu   \n",
       "3381  3382  24/06/20  8:00 AM                                 Telangana   \n",
       "3382  3383  24/06/20  8:00 AM                                   Tripura   \n",
       "3383  3384  24/06/20  8:00 AM                               Uttarakhand   \n",
       "3384  3385  24/06/20  8:00 AM                             Uttar Pradesh   \n",
       "3385  3386  24/06/20  8:00 AM                               West Bengal   \n",
       "3386  3387  24/06/20  8:00 AM          Cases being reassigned to states   \n",
       "\n",
       "     ConfirmedIndianNational ConfirmedForeignNational  Cured  Deaths  \\\n",
       "3351                       -                        -     40       0   \n",
       "3352                       -                        -   4599     119   \n",
       "3353                       -                        -     22       0   \n",
       "3354                       -                        -   3762       9   \n",
       "3355                       -                        -   6104      56   \n",
       "3356                       -                        -    322       6   \n",
       "3357                       -                        -   1553      12   \n",
       "3358                       -                        -     29       0   \n",
       "3359                       -                        -  39313    2301   \n",
       "3360                       -                        -    205       1   \n",
       "3361                       -                        -  20513    1710   \n",
       "3362                       -                        -   6498     178   \n",
       "3363                       -                        -    443       8   \n",
       "3364                       -                        -   3642      87   \n",
       "3365                       -                        -   1520      11   \n",
       "3366                       -                        -   6004     150   \n",
       "3367                       -                        -   1809      22   \n",
       "3368                       -                        -    148       1   \n",
       "3369                       -                        -   9335     525   \n",
       "3370                       -                        -  69631    6531   \n",
       "3371                       -                        -    258       0   \n",
       "3372                       -                        -     37       1   \n",
       "3373                       -                        -      9       0   \n",
       "3374                       -                        -    141       0   \n",
       "3375                       -                        -   3988      17   \n",
       "3376                       -                        -    165       9   \n",
       "3377                       -                        -   3047     105   \n",
       "3378                       -                        -  12213     365   \n",
       "3379                       -                        -     29       0   \n",
       "3380                       -                        -  35339     833   \n",
       "3381                       -                        -   4224     220   \n",
       "3382                       -                        -    807       1   \n",
       "3383                       -                        -   1602      30   \n",
       "3384                       -                        -  12116     588   \n",
       "3385                       -                        -   9218     580   \n",
       "3386                       -                        -      0       0   \n",
       "\n",
       "      Confirmed  \n",
       "3351         50  \n",
       "3352      10002  \n",
       "3353        148  \n",
       "3354       5831  \n",
       "3355       8153  \n",
       "3356        418  \n",
       "3357       2362  \n",
       "3358        120  \n",
       "3359      66602  \n",
       "3360        909  \n",
       "3361      28371  \n",
       "3362      11520  \n",
       "3363        775  \n",
       "3364       6236  \n",
       "3365       2185  \n",
       "3366       9721  \n",
       "3367       3451  \n",
       "3368        932  \n",
       "3369      12261  \n",
       "3370     139010  \n",
       "3371        921  \n",
       "3372         46  \n",
       "3373        142  \n",
       "3374        330  \n",
       "3375       5470  \n",
       "3376        402  \n",
       "3377       4397  \n",
       "3378      15627  \n",
       "3379         79  \n",
       "3380      64603  \n",
       "3381       9553  \n",
       "3382       1259  \n",
       "3383       2535  \n",
       "3384      18893  \n",
       "3385      14728  \n",
       "3386       8141  "
      ]
     },
     "execution_count": 6,
     "metadata": {},
     "output_type": "execute_result"
    }
   ],
   "source": [
    "df.loc[df['Date']=='24/06/20',:]"
   ]
  },
  {
   "cell_type": "markdown",
   "metadata": {},
   "source": [
    "Here, we can see that, the suvey is not taken multiple times a day in one place. So, Time is mostly not useful for now. We will only look at the Date."
   ]
  },
  {
   "cell_type": "code",
   "execution_count": 7,
   "metadata": {},
   "outputs": [
    {
     "data": {
      "text/html": [
       "<div>\n",
       "<style scoped>\n",
       "    .dataframe tbody tr th:only-of-type {\n",
       "        vertical-align: middle;\n",
       "    }\n",
       "\n",
       "    .dataframe tbody tr th {\n",
       "        vertical-align: top;\n",
       "    }\n",
       "\n",
       "    .dataframe thead th {\n",
       "        text-align: right;\n",
       "    }\n",
       "</style>\n",
       "<table border=\"1\" class=\"dataframe\">\n",
       "  <thead>\n",
       "    <tr style=\"text-align: right;\">\n",
       "      <th></th>\n",
       "      <th>Sno</th>\n",
       "      <th>Date</th>\n",
       "      <th>Time</th>\n",
       "      <th>State/UnionTerritory</th>\n",
       "      <th>ConfirmedIndianNational</th>\n",
       "      <th>ConfirmedForeignNational</th>\n",
       "      <th>Cured</th>\n",
       "      <th>Deaths</th>\n",
       "      <th>Confirmed</th>\n",
       "      <th>NewDate</th>\n",
       "    </tr>\n",
       "  </thead>\n",
       "  <tbody>\n",
       "    <tr>\n",
       "      <td>0</td>\n",
       "      <td>1</td>\n",
       "      <td>30/01/20</td>\n",
       "      <td>6:00 PM</td>\n",
       "      <td>Kerala</td>\n",
       "      <td>1</td>\n",
       "      <td>0</td>\n",
       "      <td>0</td>\n",
       "      <td>0</td>\n",
       "      <td>1</td>\n",
       "      <td>2020-01-30</td>\n",
       "    </tr>\n",
       "    <tr>\n",
       "      <td>1</td>\n",
       "      <td>2</td>\n",
       "      <td>31/01/20</td>\n",
       "      <td>6:00 PM</td>\n",
       "      <td>Kerala</td>\n",
       "      <td>1</td>\n",
       "      <td>0</td>\n",
       "      <td>0</td>\n",
       "      <td>0</td>\n",
       "      <td>1</td>\n",
       "      <td>2020-01-31</td>\n",
       "    </tr>\n",
       "    <tr>\n",
       "      <td>2</td>\n",
       "      <td>3</td>\n",
       "      <td>01/02/20</td>\n",
       "      <td>6:00 PM</td>\n",
       "      <td>Kerala</td>\n",
       "      <td>2</td>\n",
       "      <td>0</td>\n",
       "      <td>0</td>\n",
       "      <td>0</td>\n",
       "      <td>2</td>\n",
       "      <td>2020-02-01</td>\n",
       "    </tr>\n",
       "    <tr>\n",
       "      <td>3</td>\n",
       "      <td>4</td>\n",
       "      <td>02/02/20</td>\n",
       "      <td>6:00 PM</td>\n",
       "      <td>Kerala</td>\n",
       "      <td>3</td>\n",
       "      <td>0</td>\n",
       "      <td>0</td>\n",
       "      <td>0</td>\n",
       "      <td>3</td>\n",
       "      <td>2020-02-02</td>\n",
       "    </tr>\n",
       "    <tr>\n",
       "      <td>4</td>\n",
       "      <td>5</td>\n",
       "      <td>03/02/20</td>\n",
       "      <td>6:00 PM</td>\n",
       "      <td>Kerala</td>\n",
       "      <td>3</td>\n",
       "      <td>0</td>\n",
       "      <td>0</td>\n",
       "      <td>0</td>\n",
       "      <td>3</td>\n",
       "      <td>2020-02-03</td>\n",
       "    </tr>\n",
       "  </tbody>\n",
       "</table>\n",
       "</div>"
      ],
      "text/plain": [
       "   Sno      Date     Time State/UnionTerritory ConfirmedIndianNational  \\\n",
       "0    1  30/01/20  6:00 PM               Kerala                       1   \n",
       "1    2  31/01/20  6:00 PM               Kerala                       1   \n",
       "2    3  01/02/20  6:00 PM               Kerala                       2   \n",
       "3    4  02/02/20  6:00 PM               Kerala                       3   \n",
       "4    5  03/02/20  6:00 PM               Kerala                       3   \n",
       "\n",
       "  ConfirmedForeignNational  Cured  Deaths  Confirmed    NewDate  \n",
       "0                        0      0       0          1 2020-01-30  \n",
       "1                        0      0       0          1 2020-01-31  \n",
       "2                        0      0       0          2 2020-02-01  \n",
       "3                        0      0       0          3 2020-02-02  \n",
       "4                        0      0       0          3 2020-02-03  "
      ]
     },
     "execution_count": 7,
     "metadata": {},
     "output_type": "execute_result"
    }
   ],
   "source": [
    "df['NewDate'] = pd.to_datetime(df['Date'], format='%d/%m/%y')\n",
    "df.head()"
   ]
  },
  {
   "cell_type": "code",
   "execution_count": 8,
   "metadata": {},
   "outputs": [
    {
     "name": "stderr",
     "output_type": "stream",
     "text": [
      "C:\\Users\\91891\\Anaconda3\\lib\\site-packages\\pandas\\plotting\\_matplotlib\\converter.py:103: FutureWarning: Using an implicitly registered datetime converter for a matplotlib plotting method. The converter was registered by pandas on import. Future versions of pandas will require you to explicitly register matplotlib converters.\n",
      "\n",
      "To register the converters:\n",
      "\t>>> from pandas.plotting import register_matplotlib_converters\n",
      "\t>>> register_matplotlib_converters()\n",
      "  warnings.warn(msg, FutureWarning)\n"
     ]
    },
    {
     "data": {
      "text/plain": [
       "<matplotlib.axes._subplots.AxesSubplot at 0x1a0976f8648>"
      ]
     },
     "execution_count": 8,
     "metadata": {},
     "output_type": "execute_result"
    },
    {
     "data": {
      "image/png": "[encoded data removed]",
      "text/plain": [
       "<Figure size 720x288 with 1 Axes>"
      ]
     },
     "metadata": {
      "needs_background": "light"
     },
     "output_type": "display_data"
    }
   ],
   "source": [
    "import seaborn as sns\n",
    "import matplotlib.pyplot as plt\n",
    "%matplotlib inline\n",
    "fig = plt.figure(figsize = (10,4))\n",
    "sns.lineplot(df.NewDate,df.Confirmed)"
   ]
  },
  {
   "cell_type": "markdown",
   "metadata": {},
   "source": [
    "Here we can see an increasing trend as in the confirmed cases among all the states and territories"
   ]
  },
  {
   "cell_type": "code",
   "execution_count": 9,
   "metadata": {},
   "outputs": [
    {
     "data": {
      "text/html": [
       "<div>\n",
       "<style scoped>\n",
       "    .dataframe tbody tr th:only-of-type {\n",
       "        vertical-align: middle;\n",
       "    }\n",
       "\n",
       "    .dataframe tbody tr th {\n",
       "        vertical-align: top;\n",
       "    }\n",
       "\n",
       "    .dataframe thead th {\n",
       "        text-align: right;\n",
       "    }\n",
       "</style>\n",
       "<table border=\"1\" class=\"dataframe\">\n",
       "  <thead>\n",
       "    <tr style=\"text-align: right;\">\n",
       "      <th></th>\n",
       "      <th>date</th>\n",
       "      <th>Confirmed</th>\n",
       "    </tr>\n",
       "  </thead>\n",
       "  <tbody>\n",
       "    <tr>\n",
       "      <td>0</td>\n",
       "      <td>2020-01-30</td>\n",
       "      <td>1</td>\n",
       "    </tr>\n",
       "    <tr>\n",
       "      <td>1</td>\n",
       "      <td>2020-01-31</td>\n",
       "      <td>1</td>\n",
       "    </tr>\n",
       "    <tr>\n",
       "      <td>2</td>\n",
       "      <td>2020-02-01</td>\n",
       "      <td>2</td>\n",
       "    </tr>\n",
       "    <tr>\n",
       "      <td>3</td>\n",
       "      <td>2020-02-02</td>\n",
       "      <td>3</td>\n",
       "    </tr>\n",
       "    <tr>\n",
       "      <td>4</td>\n",
       "      <td>2020-02-03</td>\n",
       "      <td>3</td>\n",
       "    </tr>\n",
       "  </tbody>\n",
       "</table>\n",
       "</div>"
      ],
      "text/plain": [
       "        date  Confirmed\n",
       "0 2020-01-30          1\n",
       "1 2020-01-31          1\n",
       "2 2020-02-01          2\n",
       "3 2020-02-02          3\n",
       "4 2020-02-03          3"
      ]
     },
     "execution_count": 9,
     "metadata": {},
     "output_type": "execute_result"
    }
   ],
   "source": [
    "data = pd.DataFrame({'date':df.NewDate,'Confirmed':df.Confirmed})\n",
    "data.set_index('date')\n",
    "data.head()"
   ]
  },
  {
   "cell_type": "code",
   "execution_count": 10,
   "metadata": {},
   "outputs": [],
   "source": [
    "data = data.set_index('date')"
   ]
  },
  {
   "cell_type": "code",
   "execution_count": 11,
   "metadata": {},
   "outputs": [
    {
     "data": {
      "text/plain": [
       "<matplotlib.axes._subplots.AxesSubplot at 0x1e1f9349dc8>"
      ]
     },
     "execution_count": 11,
     "metadata": {},
     "output_type": "execute_result"
    },
    {
     "data": {
      "image/png": "[encoded data removed]",
      "text/plain": [
       "<Figure size 432x288 with 1 Axes>"
      ]
     },
     "metadata": {
      "needs_background": "light"
     },
     "output_type": "display_data"
    }
   ],
   "source": [
    "test = data.copy()\n",
    "\n",
    "test['Confirmed'] = np.ones((test.shape[0],1))\n",
    "\n",
    "dtest = test.resample('M').sum()\n",
    "dtest.plot(style = [':','--','-'])"
   ]
  },
  {
   "cell_type": "markdown",
   "metadata": {},
   "source": []
  },
  {
   "cell_type": "code",
   "execution_count": 12,
   "metadata": {},
   "outputs": [],
   "source": [
    "weekly = data.resample('W').sum()"
   ]
  },
  {
   "cell_type": "code",
   "execution_count": null,
   "metadata": {},
   "outputs": [],
   "source": []
  },
  {
   "cell_type": "code",
   "execution_count": null,
   "metadata": {},
   "outputs": [],
   "source": []
  },
  {
   "cell_type": "code",
   "execution_count": 13,
   "metadata": {},
   "outputs": [
    {
     "data": {
      "text/plain": [
       "<matplotlib.axes._subplots.AxesSubplot at 0x1e1f94c5548>"
      ]
     },
     "execution_count": 13,
     "metadata": {},
     "output_type": "execute_result"
    },
    {
     "data": {
      "image/png": "[encoded data removed]",
      "text/plain": [
       "<Figure size 432x288 with 1 Axes>"
      ]
     },
     "metadata": {
      "needs_background": "light"
     },
     "output_type": "display_data"
    }
   ],
   "source": [
    "weekly.plot(style=[':','--','-'])"
   ]
  },
  {
   "cell_type": "code",
   "execution_count": null,
   "metadata": {},
   "outputs": [],
   "source": []
  },
  {
   "cell_type": "code",
   "execution_count": 14,
   "metadata": {},
   "outputs": [
    {
     "data": {
      "text/plain": [
       "<matplotlib.axes._subplots.AxesSubplot at 0x1e1f9608888>"
      ]
     },
     "execution_count": 14,
     "metadata": {},
     "output_type": "execute_result"
    },
    {
     "data": {
      "image/png": "[encoded data removed]",
      "text/plain": [
       "<Figure size 432x288 with 1 Axes>"
      ]
     },
     "metadata": {
      "needs_background": "light"
     },
     "output_type": "display_data"
    }
   ],
   "source": [
    "daily = data.resample('D').sum()\n",
    "daily.plot(style = [':','--','-'])"
   ]
  },
  {
   "cell_type": "markdown",
   "metadata": {},
   "source": [
    "Plotting the Average confirmed cases in India over a weekly and daily period show us peaks in confirmed cases since we dont have the data of every single day. So the cases drop to zero. But more importantly we can also see an exponential rise of cases as the time goes on."
   ]
  },
  {
   "cell_type": "code",
   "execution_count": 15,
   "metadata": {},
   "outputs": [
    {
     "data": {
      "text/html": [
       "<div>\n",
       "<style scoped>\n",
       "    .dataframe tbody tr th:only-of-type {\n",
       "        vertical-align: middle;\n",
       "    }\n",
       "\n",
       "    .dataframe tbody tr th {\n",
       "        vertical-align: top;\n",
       "    }\n",
       "\n",
       "    .dataframe thead th {\n",
       "        text-align: right;\n",
       "    }\n",
       "</style>\n",
       "<table border=\"1\" class=\"dataframe\">\n",
       "  <thead>\n",
       "    <tr style=\"text-align: right;\">\n",
       "      <th></th>\n",
       "      <th>Date</th>\n",
       "      <th>State</th>\n",
       "      <th>TotalSamples</th>\n",
       "      <th>Negative</th>\n",
       "      <th>Positive</th>\n",
       "    </tr>\n",
       "  </thead>\n",
       "  <tbody>\n",
       "    <tr>\n",
       "      <td>0</td>\n",
       "      <td>2020-04-17</td>\n",
       "      <td>Andaman and Nicobar Islands</td>\n",
       "      <td>1403.0</td>\n",
       "      <td>1210</td>\n",
       "      <td>12.0</td>\n",
       "    </tr>\n",
       "    <tr>\n",
       "      <td>1</td>\n",
       "      <td>2020-04-24</td>\n",
       "      <td>Andaman and Nicobar Islands</td>\n",
       "      <td>2679.0</td>\n",
       "      <td>NaN</td>\n",
       "      <td>27.0</td>\n",
       "    </tr>\n",
       "    <tr>\n",
       "      <td>2</td>\n",
       "      <td>2020-04-27</td>\n",
       "      <td>Andaman and Nicobar Islands</td>\n",
       "      <td>2848.0</td>\n",
       "      <td>NaN</td>\n",
       "      <td>33.0</td>\n",
       "    </tr>\n",
       "    <tr>\n",
       "      <td>3</td>\n",
       "      <td>2020-05-01</td>\n",
       "      <td>Andaman and Nicobar Islands</td>\n",
       "      <td>3754.0</td>\n",
       "      <td>NaN</td>\n",
       "      <td>33.0</td>\n",
       "    </tr>\n",
       "    <tr>\n",
       "      <td>4</td>\n",
       "      <td>2020-05-16</td>\n",
       "      <td>Andaman and Nicobar Islands</td>\n",
       "      <td>6677.0</td>\n",
       "      <td>NaN</td>\n",
       "      <td>33.0</td>\n",
       "    </tr>\n",
       "  </tbody>\n",
       "</table>\n",
       "</div>"
      ],
      "text/plain": [
       "         Date                        State  TotalSamples Negative  Positive\n",
       "0  2020-04-17  Andaman and Nicobar Islands        1403.0     1210      12.0\n",
       "1  2020-04-24  Andaman and Nicobar Islands        2679.0      NaN      27.0\n",
       "2  2020-04-27  Andaman and Nicobar Islands        2848.0      NaN      33.0\n",
       "3  2020-05-01  Andaman and Nicobar Islands        3754.0      NaN      33.0\n",
       "4  2020-05-16  Andaman and Nicobar Islands        6677.0      NaN      33.0"
      ]
     },
     "execution_count": 15,
     "metadata": {},
     "output_type": "execute_result"
    }
   ],
   "source": [
    "df2.head()"
   ]
  },
  {
   "cell_type": "code",
   "execution_count": 16,
   "metadata": {},
   "outputs": [
    {
     "name": "stdout",
     "output_type": "stream",
     "text": [
      "<class 'pandas.core.frame.DataFrame'>\n",
      "Int64Index: 315 entries, 0 to 9272\n",
      "Data columns (total 2 columns):\n",
      "NewDate      315 non-null datetime64[ns]\n",
      "Confirmed    315 non-null int64\n",
      "dtypes: datetime64[ns](1), int64(1)\n",
      "memory usage: 7.4 KB\n"
     ]
    }
   ],
   "source": [
    "data = df.loc[df['State/UnionTerritory']=='Kerala',:][['NewDate','Confirmed']]\n",
    "data.info()"
   ]
  },
  {
   "cell_type": "code",
   "execution_count": 17,
   "metadata": {},
   "outputs": [
    {
     "data": {
      "text/plain": [
       "Int64Index([1, 1, 1, 2, 3, 4, 5, 6, 7, 8,\n",
       "            ...\n",
       "            9, 9, 9, 9, 9, 9, 9, 9, 9, 9],\n",
       "           dtype='int64', name='Date', length=9291)"
      ]
     },
     "execution_count": 17,
     "metadata": {},
     "output_type": "execute_result"
    }
   ],
   "source": [
    "a = pd.DatetimeIndex(df.Date)\n",
    "a.month"
   ]
  },
  {
   "cell_type": "code",
   "execution_count": 18,
   "metadata": {},
   "outputs": [
    {
     "data": {
      "text/plain": [
       "315"
      ]
     },
     "execution_count": 18,
     "metadata": {},
     "output_type": "execute_result"
    }
   ],
   "source": [
    "len(df.Date.unique())"
   ]
  },
  {
   "cell_type": "markdown",
   "metadata": {},
   "source": [
    "There are 315 days from start to end (31-01-2020 to 09-12-2020). So, each date is accounted for."
   ]
  },
  {
   "cell_type": "code",
   "execution_count": 19,
   "metadata": {},
   "outputs": [
    {
     "data": {
      "text/html": [
       "<div>\n",
       "<style scoped>\n",
       "    .dataframe tbody tr th:only-of-type {\n",
       "        vertical-align: middle;\n",
       "    }\n",
       "\n",
       "    .dataframe tbody tr th {\n",
       "        vertical-align: top;\n",
       "    }\n",
       "\n",
       "    .dataframe thead th {\n",
       "        text-align: right;\n",
       "    }\n",
       "</style>\n",
       "<table border=\"1\" class=\"dataframe\">\n",
       "  <thead>\n",
       "    <tr style=\"text-align: right;\">\n",
       "      <th></th>\n",
       "      <th>Sno</th>\n",
       "      <th>Date</th>\n",
       "      <th>Time</th>\n",
       "      <th>State/UnionTerritory</th>\n",
       "      <th>ConfirmedIndianNational</th>\n",
       "      <th>ConfirmedForeignNational</th>\n",
       "      <th>Cured</th>\n",
       "      <th>Deaths</th>\n",
       "      <th>Confirmed</th>\n",
       "      <th>NewDate</th>\n",
       "    </tr>\n",
       "  </thead>\n",
       "  <tbody>\n",
       "    <tr>\n",
       "      <td>0</td>\n",
       "      <td>1</td>\n",
       "      <td>30/01/20</td>\n",
       "      <td>6:00 PM</td>\n",
       "      <td>Kerala</td>\n",
       "      <td>1</td>\n",
       "      <td>0</td>\n",
       "      <td>0</td>\n",
       "      <td>0</td>\n",
       "      <td>1</td>\n",
       "      <td>2020-01-30</td>\n",
       "    </tr>\n",
       "    <tr>\n",
       "      <td>1</td>\n",
       "      <td>2</td>\n",
       "      <td>31/01/20</td>\n",
       "      <td>6:00 PM</td>\n",
       "      <td>Kerala</td>\n",
       "      <td>1</td>\n",
       "      <td>0</td>\n",
       "      <td>0</td>\n",
       "      <td>0</td>\n",
       "      <td>1</td>\n",
       "      <td>2020-01-31</td>\n",
       "    </tr>\n",
       "    <tr>\n",
       "      <td>2</td>\n",
       "      <td>3</td>\n",
       "      <td>01/02/20</td>\n",
       "      <td>6:00 PM</td>\n",
       "      <td>Kerala</td>\n",
       "      <td>2</td>\n",
       "      <td>0</td>\n",
       "      <td>0</td>\n",
       "      <td>0</td>\n",
       "      <td>2</td>\n",
       "      <td>2020-02-01</td>\n",
       "    </tr>\n",
       "    <tr>\n",
       "      <td>3</td>\n",
       "      <td>4</td>\n",
       "      <td>02/02/20</td>\n",
       "      <td>6:00 PM</td>\n",
       "      <td>Kerala</td>\n",
       "      <td>3</td>\n",
       "      <td>0</td>\n",
       "      <td>0</td>\n",
       "      <td>0</td>\n",
       "      <td>3</td>\n",
       "      <td>2020-02-02</td>\n",
       "    </tr>\n",
       "    <tr>\n",
       "      <td>4</td>\n",
       "      <td>5</td>\n",
       "      <td>03/02/20</td>\n",
       "      <td>6:00 PM</td>\n",
       "      <td>Kerala</td>\n",
       "      <td>3</td>\n",
       "      <td>0</td>\n",
       "      <td>0</td>\n",
       "      <td>0</td>\n",
       "      <td>3</td>\n",
       "      <td>2020-02-03</td>\n",
       "    </tr>\n",
       "  </tbody>\n",
       "</table>\n",
       "</div>"
      ],
      "text/plain": [
       "   Sno      Date     Time State/UnionTerritory ConfirmedIndianNational  \\\n",
       "0    1  30/01/20  6:00 PM               Kerala                       1   \n",
       "1    2  31/01/20  6:00 PM               Kerala                       1   \n",
       "2    3  01/02/20  6:00 PM               Kerala                       2   \n",
       "3    4  02/02/20  6:00 PM               Kerala                       3   \n",
       "4    5  03/02/20  6:00 PM               Kerala                       3   \n",
       "\n",
       "  ConfirmedForeignNational  Cured  Deaths  Confirmed    NewDate  \n",
       "0                        0      0       0          1 2020-01-30  \n",
       "1                        0      0       0          1 2020-01-31  \n",
       "2                        0      0       0          2 2020-02-01  \n",
       "3                        0      0       0          3 2020-02-02  \n",
       "4                        0      0       0          3 2020-02-03  "
      ]
     },
     "execution_count": 19,
     "metadata": {},
     "output_type": "execute_result"
    }
   ],
   "source": [
    "df.head()"
   ]
  },
  {
   "cell_type": "markdown",
   "metadata": {},
   "source": [
    "### Data Exploration"
   ]
  },
  {
   "cell_type": "code",
   "execution_count": 20,
   "metadata": {},
   "outputs": [
    {
     "data": {
      "text/html": [
       "<div>\n",
       "<style scoped>\n",
       "    .dataframe tbody tr th:only-of-type {\n",
       "        vertical-align: middle;\n",
       "    }\n",
       "\n",
       "    .dataframe tbody tr th {\n",
       "        vertical-align: top;\n",
       "    }\n",
       "\n",
       "    .dataframe thead th {\n",
       "        text-align: right;\n",
       "    }\n",
       "</style>\n",
       "<table border=\"1\" class=\"dataframe\">\n",
       "  <thead>\n",
       "    <tr style=\"text-align: right;\">\n",
       "      <th></th>\n",
       "      <th>Sno</th>\n",
       "      <th>Date</th>\n",
       "      <th>Time</th>\n",
       "      <th>State/UnionTerritory</th>\n",
       "      <th>ConfirmedIndianNational</th>\n",
       "      <th>ConfirmedForeignNational</th>\n",
       "      <th>Cured</th>\n",
       "      <th>Deaths</th>\n",
       "      <th>Confirmed</th>\n",
       "      <th>NewDate</th>\n",
       "    </tr>\n",
       "  </thead>\n",
       "  <tbody>\n",
       "    <tr>\n",
       "      <td>0</td>\n",
       "      <td>1</td>\n",
       "      <td>30/01/20</td>\n",
       "      <td>6:00 PM</td>\n",
       "      <td>Kerala</td>\n",
       "      <td>1</td>\n",
       "      <td>0</td>\n",
       "      <td>0</td>\n",
       "      <td>0</td>\n",
       "      <td>1</td>\n",
       "      <td>2020-01-30</td>\n",
       "    </tr>\n",
       "    <tr>\n",
       "      <td>1</td>\n",
       "      <td>2</td>\n",
       "      <td>31/01/20</td>\n",
       "      <td>6:00 PM</td>\n",
       "      <td>Kerala</td>\n",
       "      <td>1</td>\n",
       "      <td>0</td>\n",
       "      <td>0</td>\n",
       "      <td>0</td>\n",
       "      <td>1</td>\n",
       "      <td>2020-01-31</td>\n",
       "    </tr>\n",
       "    <tr>\n",
       "      <td>2</td>\n",
       "      <td>3</td>\n",
       "      <td>01/02/20</td>\n",
       "      <td>6:00 PM</td>\n",
       "      <td>Kerala</td>\n",
       "      <td>2</td>\n",
       "      <td>0</td>\n",
       "      <td>0</td>\n",
       "      <td>0</td>\n",
       "      <td>2</td>\n",
       "      <td>2020-02-01</td>\n",
       "    </tr>\n",
       "    <tr>\n",
       "      <td>3</td>\n",
       "      <td>4</td>\n",
       "      <td>02/02/20</td>\n",
       "      <td>6:00 PM</td>\n",
       "      <td>Kerala</td>\n",
       "      <td>3</td>\n",
       "      <td>0</td>\n",
       "      <td>0</td>\n",
       "      <td>0</td>\n",
       "      <td>3</td>\n",
       "      <td>2020-02-02</td>\n",
       "    </tr>\n",
       "    <tr>\n",
       "      <td>4</td>\n",
       "      <td>5</td>\n",
       "      <td>03/02/20</td>\n",
       "      <td>6:00 PM</td>\n",
       "      <td>Kerala</td>\n",
       "      <td>3</td>\n",
       "      <td>0</td>\n",
       "      <td>0</td>\n",
       "      <td>0</td>\n",
       "      <td>3</td>\n",
       "      <td>2020-02-03</td>\n",
       "    </tr>\n",
       "  </tbody>\n",
       "</table>\n",
       "</div>"
      ],
      "text/plain": [
       "   Sno      Date     Time State/UnionTerritory ConfirmedIndianNational  \\\n",
       "0    1  30/01/20  6:00 PM               Kerala                       1   \n",
       "1    2  31/01/20  6:00 PM               Kerala                       1   \n",
       "2    3  01/02/20  6:00 PM               Kerala                       2   \n",
       "3    4  02/02/20  6:00 PM               Kerala                       3   \n",
       "4    5  03/02/20  6:00 PM               Kerala                       3   \n",
       "\n",
       "  ConfirmedForeignNational  Cured  Deaths  Confirmed    NewDate  \n",
       "0                        0      0       0          1 2020-01-30  \n",
       "1                        0      0       0          1 2020-01-31  \n",
       "2                        0      0       0          2 2020-02-01  \n",
       "3                        0      0       0          3 2020-02-02  \n",
       "4                        0      0       0          3 2020-02-03  "
      ]
     },
     "execution_count": 20,
     "metadata": {},
     "output_type": "execute_result"
    }
   ],
   "source": [
    "df.head()"
   ]
  },
  {
   "cell_type": "code",
   "execution_count": 21,
   "metadata": {},
   "outputs": [
    {
     "data": {
      "text/html": [
       "<div>\n",
       "<style scoped>\n",
       "    .dataframe tbody tr th:only-of-type {\n",
       "        vertical-align: middle;\n",
       "    }\n",
       "\n",
       "    .dataframe tbody tr th {\n",
       "        vertical-align: top;\n",
       "    }\n",
       "\n",
       "    .dataframe thead th {\n",
       "        text-align: right;\n",
       "    }\n",
       "</style>\n",
       "<table border=\"1\" class=\"dataframe\">\n",
       "  <thead>\n",
       "    <tr style=\"text-align: right;\">\n",
       "      <th></th>\n",
       "      <th>Sno</th>\n",
       "      <th>Cured</th>\n",
       "      <th>Deaths</th>\n",
       "      <th>Confirmed</th>\n",
       "    </tr>\n",
       "    <tr>\n",
       "      <th>NewDate</th>\n",
       "      <th></th>\n",
       "      <th></th>\n",
       "      <th></th>\n",
       "      <th></th>\n",
       "    </tr>\n",
       "  </thead>\n",
       "  <tbody>\n",
       "    <tr>\n",
       "      <td>2020-01-30</td>\n",
       "      <td>1</td>\n",
       "      <td>0</td>\n",
       "      <td>0</td>\n",
       "      <td>1</td>\n",
       "    </tr>\n",
       "    <tr>\n",
       "      <td>2020-01-31</td>\n",
       "      <td>2</td>\n",
       "      <td>0</td>\n",
       "      <td>0</td>\n",
       "      <td>1</td>\n",
       "    </tr>\n",
       "    <tr>\n",
       "      <td>2020-02-01</td>\n",
       "      <td>3</td>\n",
       "      <td>0</td>\n",
       "      <td>0</td>\n",
       "      <td>2</td>\n",
       "    </tr>\n",
       "    <tr>\n",
       "      <td>2020-02-02</td>\n",
       "      <td>4</td>\n",
       "      <td>0</td>\n",
       "      <td>0</td>\n",
       "      <td>3</td>\n",
       "    </tr>\n",
       "    <tr>\n",
       "      <td>2020-02-03</td>\n",
       "      <td>5</td>\n",
       "      <td>0</td>\n",
       "      <td>0</td>\n",
       "      <td>3</td>\n",
       "    </tr>\n",
       "    <tr>\n",
       "      <td>...</td>\n",
       "      <td>...</td>\n",
       "      <td>...</td>\n",
       "      <td>...</td>\n",
       "      <td>...</td>\n",
       "    </tr>\n",
       "    <tr>\n",
       "      <td>2020-12-05</td>\n",
       "      <td>319690</td>\n",
       "      <td>9058822</td>\n",
       "      <td>139700</td>\n",
       "      <td>9608211</td>\n",
       "    </tr>\n",
       "    <tr>\n",
       "      <td>2020-12-06</td>\n",
       "      <td>320915</td>\n",
       "      <td>9100792</td>\n",
       "      <td>140182</td>\n",
       "      <td>9644222</td>\n",
       "    </tr>\n",
       "    <tr>\n",
       "      <td>2020-12-07</td>\n",
       "      <td>322140</td>\n",
       "      <td>9139901</td>\n",
       "      <td>140573</td>\n",
       "      <td>9677203</td>\n",
       "    </tr>\n",
       "    <tr>\n",
       "      <td>2020-12-08</td>\n",
       "      <td>323365</td>\n",
       "      <td>9178946</td>\n",
       "      <td>140958</td>\n",
       "      <td>9703770</td>\n",
       "    </tr>\n",
       "    <tr>\n",
       "      <td>2020-12-09</td>\n",
       "      <td>324590</td>\n",
       "      <td>9215581</td>\n",
       "      <td>141360</td>\n",
       "      <td>9735850</td>\n",
       "    </tr>\n",
       "  </tbody>\n",
       "</table>\n",
       "<p>315 rows × 4 columns</p>\n",
       "</div>"
      ],
      "text/plain": [
       "               Sno    Cured  Deaths  Confirmed\n",
       "NewDate                                       \n",
       "2020-01-30       1        0       0          1\n",
       "2020-01-31       2        0       0          1\n",
       "2020-02-01       3        0       0          2\n",
       "2020-02-02       4        0       0          3\n",
       "2020-02-03       5        0       0          3\n",
       "...            ...      ...     ...        ...\n",
       "2020-12-05  319690  9058822  139700    9608211\n",
       "2020-12-06  320915  9100792  140182    9644222\n",
       "2020-12-07  322140  9139901  140573    9677203\n",
       "2020-12-08  323365  9178946  140958    9703770\n",
       "2020-12-09  324590  9215581  141360    9735850\n",
       "\n",
       "[315 rows x 4 columns]"
      ]
     },
     "execution_count": 21,
     "metadata": {},
     "output_type": "execute_result"
    }
   ],
   "source": [
    "total = df.groupby(['NewDate']).sum()\n",
    "total"
   ]
  },
  {
   "cell_type": "code",
   "execution_count": 22,
   "metadata": {},
   "outputs": [],
   "source": [
    "data = total['Confirmed']"
   ]
  },
  {
   "cell_type": "code",
   "execution_count": null,
   "metadata": {},
   "outputs": [],
   "source": []
  },
  {
   "cell_type": "code",
   "execution_count": null,
   "metadata": {},
   "outputs": [],
   "source": []
  },
  {
   "cell_type": "code",
   "execution_count": 23,
   "metadata": {},
   "outputs": [
    {
     "data": {
      "image/png": "[encoded data removed]",
      "text/plain": [
       "<Figure size 432x288 with 1 Axes>"
      ]
     },
     "metadata": {
      "needs_background": "light"
     },
     "output_type": "display_data"
    }
   ],
   "source": [
    "from matplotlib import pyplot as plt\n",
    "from pandas.plotting import lag_plot\n",
    "\n",
    "lag_plot(data)\n",
    "plt.show()"
   ]
  },
  {
   "cell_type": "markdown",
   "metadata": {},
   "source": [
    "As you can see, the data is highly correlated to previous values. This means forecasting will work great"
   ]
  },
  {
   "cell_type": "code",
   "execution_count": 24,
   "metadata": {},
   "outputs": [
    {
     "name": "stdout",
     "output_type": "stream",
     "text": [
      "          t-1       t+1\n",
      "t-1  1.000000  0.999977\n",
      "t+1  0.999977  1.000000\n"
     ]
    }
   ],
   "source": [
    "values = pd.DataFrame(data.values)\n",
    "dataframe = pd.concat([values.shift(1), values], axis=1)\n",
    "dataframe.columns = ['t-1', 't+1']\n",
    "result = dataframe.corr()\n",
    "print(result)"
   ]
  },
  {
   "cell_type": "markdown",
   "metadata": {},
   "source": [
    "There is a positive correlation of about 0.84 between the two different time steps. So, they are highly correlated. Which means we can autopredict future values using the past values we have."
   ]
  },
  {
   "cell_type": "code",
   "execution_count": 25,
   "metadata": {},
   "outputs": [
    {
     "data": {
      "image/png": "[encoded data removed]",
      "text/plain": [
       "<Figure size 432x288 with 1 Axes>"
      ]
     },
     "metadata": {
      "needs_background": "light"
     },
     "output_type": "display_data"
    }
   ],
   "source": [
    "from pandas.plotting import autocorrelation_plot\n",
    "autocorrelation_plot(data)\n",
    "plt.show()"
   ]
  },
  {
   "cell_type": "markdown",
   "metadata": {},
   "source": [
    "Seems like a lag value more than 100 is causing no correlation or only a little bit of negative correlation"
   ]
  },
  {
   "cell_type": "code",
   "execution_count": 26,
   "metadata": {},
   "outputs": [
    {
     "data": {
      "image/png": "[encoded data removed]",
      "text/plain": [
       "<Figure size 432x288 with 1 Axes>"
      ]
     },
     "metadata": {
      "needs_background": "light"
     },
     "output_type": "display_data"
    }
   ],
   "source": [
    "from statsmodels.graphics.tsaplots import plot_acf\n",
    "plot_acf(data, lags= 80)\n",
    "plt.show()"
   ]
  },
  {
   "cell_type": "code",
   "execution_count": null,
   "metadata": {},
   "outputs": [],
   "source": []
  },
  {
   "cell_type": "markdown",
   "metadata": {},
   "source": [
    "Here you can see a more clear picture of what is going on from 0 to 80. The correlation decreases as the lag value or time step increases"
   ]
  },
  {
   "cell_type": "markdown",
   "metadata": {},
   "source": [
    "#### Persistence Model"
   ]
  },
  {
   "cell_type": "markdown",
   "metadata": {},
   "source": [
    "This is nothing but a model that basically copies the actual test data but adds a lag value of 1. This can be treated as a base line model to compare with the AR model."
   ]
  },
  {
   "cell_type": "code",
   "execution_count": 27,
   "metadata": {},
   "outputs": [
    {
     "name": "stdout",
     "output_type": "stream",
     "text": [
      "Test MSE: 1152676649.000\n"
     ]
    },
    {
     "data": {
      "image/png": "[encoded data removed]",
      "text/plain": [
       "<Figure size 720x216 with 1 Axes>"
      ]
     },
     "metadata": {
      "needs_background": "light"
     },
     "output_type": "display_data"
    }
   ],
   "source": [
    "from sklearn.metrics import mean_squared_error\n",
    "# split into train and test sets\n",
    "X = dataframe.values\n",
    "train, test = X[1:len(X)-9], X[len(X)-9:]\n",
    "train_X, train_y = train[:,0], train[:,1]\n",
    "test_X, test_y = test[:,0], test[:,1]\n",
    "\n",
    "# persistence model\n",
    "def model_persistence(x):\n",
    "    return x\n",
    "\n",
    "# walk-forward validation\n",
    "predictions = list()\n",
    "for x in test_X:\n",
    "    yhat = model_persistence(x)\n",
    "    predictions.append(yhat)\n",
    "test_score = mean_squared_error(test_y, predictions)\n",
    "print('Test MSE: %.3f' % test_score)\n",
    "# plot predictions vs expected\n",
    "fig= plt.figure(figsize=(10,3))\n",
    "plt.plot(test_y)\n",
    "plt.plot(predictions, color='red')\n",
    "plt.xticks(range(0,9),['1-12-2020','2-12-2020','3-12-2020','4-12-2020','5-12-2020','6-12-2020','7-12-2020','8-12-2020','9-12-2020'])\n",
    "plt.show()"
   ]
  },
  {
   "cell_type": "markdown",
   "metadata": {},
   "source": [
    "As you can see, the predicted values(red) lag behind by a day."
   ]
  },
  {
   "cell_type": "markdown",
   "metadata": {},
   "source": [
    "#### Auto-Regression Model"
   ]
  },
  {
   "cell_type": "code",
   "execution_count": 28,
   "metadata": {},
   "outputs": [
    {
     "name": "stdout",
     "output_type": "stream",
     "text": [
      "Coefficients: [ 2.74465622e+02  1.79701746e+00 -7.40910815e-01  1.55285513e-01\n",
      " -3.03270831e-01  9.79381499e-02  3.12367106e-02  3.29707534e-01\n",
      " -6.74251007e-01  2.10513117e-01  2.12804519e-01 -1.72282008e-01\n",
      "  7.75414780e-02 -1.19293809e-01  3.07569193e-01 -2.82014786e-01\n",
      " -4.93047681e-02 -9.29440344e-02  3.87076285e-01 -1.98591329e-01\n",
      "  1.63149676e-01  1.55195396e-01 -6.42965699e-01  4.53695581e-01\n",
      " -1.73923587e-01  4.08401032e-02  3.02286980e-02]\n",
      "predicted=9464871.583438, expected=9462809.000000"
     ]
    },
    {
     "name": "stderr",
     "output_type": "stream",
     "text": [
      "C:\\Users\\91891\\Anaconda3\\lib\\site-packages\\statsmodels\\tsa\\ar_model.py:252: FutureWarning: The parameter names will change after 0.12 is released. Set old_names to False to use the new names now. Set old_names to True to use the old names. \n",
      "  FutureWarning,\n"
     ]
    },
    {
     "name": "stdout",
     "output_type": "stream",
     "text": [
      "\n",
      "predicted=9506716.264307, expected=9499413.000000\n",
      "predicted=9553350.487302, expected=9534964.000000\n",
      "predicted=9597444.055246, expected=9571559.000000\n",
      "predicted=9640958.817293, expected=9608211.000000\n",
      "predicted=9681148.104911, expected=9644222.000000\n",
      "predicted=9715738.758806, expected=9677203.000000\n",
      "predicted=9747286.698402, expected=9703770.000000\n",
      "predicted=9786487.028678, expected=9735850.000000\n",
      "Test RMSE: 32394.211\n"
     ]
    },
    {
     "data": {
      "image/png": "[encoded data removed]",
      "text/plain": [
       "<Figure size 720x216 with 1 Axes>"
      ]
     },
     "metadata": {
      "needs_background": "light"
     },
     "output_type": "display_data"
    }
   ],
   "source": [
    "from math import sqrt\n",
    "from statsmodels.tsa.ar_model import AutoReg\n",
    "# train autoregression\n",
    "X = data.values\n",
    "train, test = X[1:len(X)-9], X[len(X)-9:]\n",
    "model = AutoReg(train, lags=26)\n",
    "model_fit = model.fit()\n",
    "print('Coefficients: %s' % model_fit.params)\n",
    "# make predictions\n",
    "predictions = model_fit.predict(start=len(train), end=len(train)+len(test)-1, dynamic=False)\n",
    "for i in range(len(predictions)):\n",
    "    print('predicted=%f, expected=%f' % (predictions[i], test[i]))\n",
    "rmse = sqrt(mean_squared_error(test, predictions))\n",
    "print('Test RMSE: %.3f' % rmse)\n",
    "# plot results\n",
    "fig = plt.figure(figsize = (10,3))\n",
    "plt.plot(test)\n",
    "plt.plot(predictions, color='red')\n",
    "plt.xticks(range(0,9),['1-12-2020','2-12-2020','3-12-2020','4-12-2020','5-12-2020','6-12-2020','7-12-2020','8-12-2020','9-12-2020'])\n",
    "plt.show()"
   ]
  },
  {
   "cell_type": "markdown",
   "metadata": {},
   "source": [
    "This is the prediction of the confirmed cases from 1st to the 9th of December,2020. Compared to the pesistence model(baseline), it does seem to do better. But this model is predicting the values for all 9 days at once. So, when it is predicting the value on 9th December, it is not taking into account the value of 8th December, that it previously predicted."
   ]
  },
  {
   "cell_type": "code",
   "execution_count": 185,
   "metadata": {},
   "outputs": [
    {
     "name": "stdout",
     "output_type": "stream",
     "text": [
      "predicted=25380.324595, expected=21700.000000\n",
      "predicted=26331.697642, expected=23452.000000\n",
      "predicted=28858.590420, expected=24893.000000\n",
      "predicted=32444.323223, expected=26605.000000\n",
      "predicted=34094.793605, expected=28160.000000\n",
      "predicted=36685.087450, expected=29834.000000\n",
      "predicted=41234.621107, expected=31709.000000\n",
      "predicted=46198.576478, expected=33330.000000\n",
      "predicted=49264.859160, expected=34972.000000\n",
      "predicted=53401.083462, expected=37157.000000\n",
      "predicted=61725.809901, expected=40124.000000\n",
      "predicted=70401.165686, expected=42836.000000\n",
      "predicted=73417.040547, expected=46711.000000\n",
      "predicted=80646.624298, expected=49391.000000\n",
      "predicted=88704.821833, expected=52952.000000\n",
      "predicted=94938.231087, expected=56342.000000\n",
      "predicted=105598.360490, expected=59662.000000\n",
      "predicted=115409.700167, expected=62939.000000\n",
      "predicted=123425.103586, expected=67152.000000\n",
      "predicted=132495.012929, expected=70756.000000\n",
      "predicted=141434.452457, expected=74281.000000\n",
      "predicted=150411.885227, expected=78003.000000\n",
      "predicted=158691.666720, expected=81970.000000\n",
      "predicted=171438.625737, expected=85710.000000\n",
      "predicted=178918.826337, expected=90637.000000\n",
      "predicted=190748.727198, expected=95759.000000\n",
      "predicted=202317.151683, expected=100325.000000\n",
      "predicted=209989.297198, expected=106750.000000\n",
      "predicted=222337.581512, expected=112359.000000\n",
      "predicted=239087.245864, expected=118447.000000\n",
      "predicted=253042.855941, expected=125101.000000\n",
      "predicted=273890.040446, expected=131868.000000\n",
      "predicted=292976.827736, expected=138845.000000\n",
      "predicted=304257.048964, expected=145380.000000\n",
      "predicted=324976.406760, expected=151767.000000\n",
      "predicted=341653.228344, expected=158333.000000\n",
      "predicted=357402.749042, expected=165799.000000\n",
      "predicted=383752.262137, expected=173763.000000\n",
      "predicted=412028.803133, expected=182143.000000\n",
      "predicted=427760.625532, expected=190535.000000\n",
      "predicted=454450.317120, expected=198706.000000\n",
      "predicted=479784.887548, expected=207615.000000\n",
      "predicted=495631.539442, expected=216919.000000\n",
      "predicted=521840.889494, expected=226770.000000\n",
      "predicted=557828.522114, expected=236657.000000\n",
      "predicted=579358.569239, expected=246628.000000\n",
      "predicted=610203.726928, expected=256611.000000\n",
      "predicted=647317.806774, expected=266598.000000\n",
      "predicted=668068.221134, expected=276583.000000\n",
      "predicted=701924.053871, expected=286579.000000\n",
      "predicted=741468.348715, expected=297535.000000\n",
      "predicted=777691.349059, expected=308993.000000\n",
      "predicted=816256.316147, expected=320922.000000\n",
      "predicted=852198.270929, expected=332424.000000\n",
      "predicted=886708.202033, expected=343091.000000\n",
      "predicted=926978.489327, expected=354065.000000\n",
      "predicted=972035.342068, expected=366946.000000\n",
      "predicted=1019700.975368, expected=380532.000000\n",
      "predicted=1068956.308316, expected=395048.000000\n",
      "predicted=1114353.592146, expected=410461.000000\n",
      "predicted=1162685.263619, expected=425282.000000\n",
      "predicted=1216433.732326, expected=440215.000000\n",
      "predicted=1269177.103927, expected=456183.000000\n",
      "predicted=1325680.817265, expected=473105.000000\n",
      "predicted=1386052.561162, expected=490401.000000\n",
      "predicted=1446931.135118, expected=508953.000000\n",
      "predicted=1507249.596333, expected=528859.000000\n",
      "predicted=1569991.075145, expected=548318.000000\n",
      "predicted=1631016.747305, expected=566840.000000\n",
      "predicted=1695035.528543, expected=585493.000000\n",
      "predicted=1764460.757272, expected=604641.000000\n",
      "predicted=1835917.690664, expected=625544.000000\n",
      "predicted=1908696.723990, expected=648315.000000\n",
      "predicted=1970362.779733, expected=673165.000000\n",
      "predicted=2031545.787837, expected=697413.000000\n",
      "predicted=2109674.757674, expected=719665.000000\n",
      "predicted=2189277.577365, expected=742417.000000\n",
      "predicted=2264097.808137, expected=767296.000000\n",
      "predicted=2354066.872572, expected=793802.000000\n",
      "predicted=2440008.225074, expected=820916.000000\n",
      "predicted=2511260.270888, expected=849553.000000\n",
      "predicted=2598069.680347, expected=878254.000000\n",
      "predicted=2699706.015269, expected=906752.000000\n",
      "predicted=2791332.455087, expected=936181.000000\n",
      "predicted=2887165.960208, expected=968876.000000\n",
      "predicted=3008416.762006, expected=1003832.000000\n",
      "predicted=3132156.495737, expected=1038716.000000\n",
      "predicted=3236766.604120, expected=1077618.000000\n",
      "predicted=3344537.224518, expected=1118043.000000\n",
      "predicted=3463480.572377, expected=1155191.000000\n",
      "predicted=3580582.284333, expected=1192915.000000\n",
      "predicted=3708929.900774, expected=1238635.000000\n",
      "predicted=3868173.025798, expected=1287945.000000\n",
      "predicted=4036044.973700, expected=1336861.000000\n",
      "predicted=4165354.148598, expected=1385522.000000\n",
      "predicted=4284920.910233, expected=1435453.000000\n",
      "predicted=4438458.169407, expected=1483156.000000\n",
      "predicted=4594820.953084, expected=1531669.000000\n",
      "predicted=4737974.903300, expected=1583792.000000\n",
      "predicted=4905000.469972, expected=1638870.000000\n",
      "predicted=5096185.905055, expected=1695988.000000\n",
      "predicted=5260814.225768, expected=1750723.000000\n",
      "predicted=5399308.411798, expected=1803695.000000\n",
      "predicted=5566279.607520, expected=1855745.000000\n",
      "predicted=5766805.892098, expected=1908254.000000\n",
      "predicted=5939720.521259, expected=1964536.000000\n",
      "predicted=6125470.466343, expected=2027074.000000\n",
      "predicted=6367117.349029, expected=2088611.000000\n",
      "predicted=6570810.215835, expected=2153010.000000\n",
      "predicted=6733920.590893, expected=2215074.000000\n",
      "predicted=6963477.886147, expected=2268675.000000\n",
      "predicted=7234709.033716, expected=2329638.000000\n",
      "predicted=7480604.058686, expected=2396637.000000\n",
      "predicted=7743422.112484, expected=2461190.000000\n",
      "predicted=8024737.059686, expected=2526192.000000\n",
      "predicted=8272178.653125, expected=2589682.000000\n",
      "predicted=8508358.227516, expected=2647663.000000\n",
      "predicted=8797064.101110, expected=2702742.000000\n",
      "predicted=9092669.486639, expected=2767273.000000\n",
      "predicted=9410253.230209, expected=2836925.000000\n",
      "predicted=9749827.706611, expected=2905823.000000\n",
      "predicted=10060130.420878, expected=2975701.000000\n",
      "predicted=10351916.798799, expected=3044940.000000\n",
      "predicted=10628983.867890, expected=3106348.000000\n",
      "predicted=10928098.373642, expected=3167323.000000\n",
      "predicted=11283086.225647, expected=3234474.000000\n",
      "predicted=11635903.948427, expected=3310234.000000\n",
      "predicted=12010932.463392, expected=3387500.000000\n",
      "predicted=12411601.155571, expected=3463972.000000\n",
      "predicted=12688657.017515, expected=3542733.000000\n",
      "predicted=12979798.265781, expected=3621245.000000\n",
      "predicted=13421849.711815, expected=3691166.000000\n",
      "predicted=13802045.901919, expected=3769523.000000\n",
      "predicted=14158167.186631, expected=3853406.000000\n",
      "predicted=14605135.684967, expected=3936747.000000\n",
      "predicted=14978577.081436, expected=4023179.000000\n",
      "predicted=15241919.680641, expected=4113811.000000\n",
      "predicted=15613823.522896, expected=4204613.000000\n",
      "predicted=16101271.249196, expected=4280422.000000\n",
      "predicted=16499739.525986, expected=4370128.000000\n",
      "predicted=16894759.424173, expected=4465863.000000\n",
      "predicted=17349905.790821, expected=4562414.000000\n",
      "predicted=17709425.843586, expected=4659984.000000\n",
      "predicted=18001300.932045, expected=4754356.000000\n",
      "predicted=18381351.730281, expected=4846427.000000\n",
      "predicted=18859137.197105, expected=4930236.000000\n",
      "predicted=19307848.469939, expected=5020359.000000\n",
      "predicted=19700587.944246, expected=5118253.000000\n",
      "predicted=20159105.161095, expected=5214677.000000\n",
      "predicted=20622916.402732, expected=5308014.000000\n",
      "predicted=20968377.831315, expected=5400619.000000\n",
      "predicted=21319902.443377, expected=5487580.000000\n",
      "predicted=21839240.668739, expected=5562663.000000\n",
      "predicted=22290576.567042, expected=5646010.000000\n",
      "predicted=22695975.519751, expected=5732518.000000\n",
      "predicted=23232143.778478, expected=5818570.000000\n",
      "predicted=23771007.730263, expected=5903932.000000\n",
      "predicted=24127594.905204, expected=5992532.000000\n",
      "predicted=24527429.838521, expected=6074702.000000\n",
      "predicted=25127038.408316, expected=6145291.000000\n",
      "predicted=25629818.446065, expected=6225763.000000\n",
      "predicted=26136470.983748, expected=6312584.000000\n",
      "predicted=26730288.692750, expected=6394068.000000\n",
      "predicted=27257958.205007, expected=6473544.000000\n",
      "predicted=27678649.756518, expected=6549373.000000\n",
      "predicted=28137608.050795, expected=6623815.000000\n",
      "predicted=28759571.489522, expected=6685082.000000\n",
      "predicted=29335362.956964, expected=6757131.000000\n",
      "predicted=29844643.170212, expected=6835655.000000\n",
      "predicted=30443214.851390, expected=6906151.000000\n",
      "predicted=31010801.075096, expected=6979423.000000\n",
      "predicted=31406045.766678, expected=7053806.000000\n",
      "predicted=31848201.062169, expected=7120538.000000\n",
      "predicted=32457559.849836, expected=7175880.000000\n",
      "predicted=32976651.255136, expected=7239389.000000\n",
      "predicted=33450485.554532, expected=7307097.000000\n",
      "predicted=34039657.542348, expected=7370468.000000\n",
      "predicted=34570043.523900, expected=7432680.000000\n",
      "predicted=34910163.090133, expected=7494551.000000\n",
      "predicted=35325370.056768, expected=7550273.000000\n",
      "predicted=35917940.433860, expected=7597063.000000\n",
      "predicted=36404996.534718, expected=7651107.000000\n",
      "predicted=36826794.650369, expected=7706946.000000\n",
      "predicted=37349435.433522, expected=7761312.000000\n",
      "predicted=37831851.881104, expected=7814682.000000\n",
      "predicted=38152671.658294, expected=7864811.000000\n",
      "predicted=38518033.390758, expected=7909959.000000\n",
      "predicted=39093911.015033, expected=7946429.000000\n",
      "predicted=39528210.641956, expected=7990322.000000\n",
      "predicted=39891792.780196, expected=8040203.000000\n",
      "predicted=40415119.038711, expected=8088851.000000\n",
      "predicted=40859021.422866, expected=8137119.000000\n",
      "predicted=41126661.459715, expected=8184082.000000\n",
      "predicted=41483881.183276, expected=8229313.000000\n",
      "predicted=41985636.988463, expected=8267623.000000\n",
      "predicted=42374128.755217, expected=8313876.000000\n",
      "predicted=42739462.686258, expected=8364086.000000\n",
      "predicted=43208676.444911, expected=8411724.000000\n",
      "predicted=43600416.081970, expected=8462080.000000\n",
      "predicted=43852185.612909, expected=8507754.000000\n",
      "predicted=44167977.488989, expected=8553657.000000\n",
      "predicted=44596155.541213, expected=8591730.000000\n",
      "predicted=44944492.765308, expected=8636011.000000\n",
      "predicted=45279164.994254, expected=8683916.000000\n",
      "predicted=45660325.238550, expected=8728795.000000\n",
      "predicted=45967481.650504, expected=8773479.000000\n",
      "predicted=46168989.105773, expected=8814579.000000\n",
      "predicted=46403378.338728, expected=8845127.000000\n",
      "predicted=46751326.637337, expected=8874290.000000\n",
      "predicted=47057797.023890, expected=8912907.000000\n",
      "predicted=47324307.666677, expected=8958483.000000\n",
      "predicted=47648404.046830, expected=9004365.000000\n",
      "predicted=47925692.732247, expected=9050597.000000\n",
      "predicted=48112036.701814, expected=9095806.000000\n",
      "predicted=48351905.505282, expected=9139865.000000\n",
      "predicted=48696189.917146, expected=9177840.000000\n",
      "predicted=48966301.536361, expected=9222216.000000\n",
      "predicted=49241570.214301, expected=9266705.000000\n",
      "predicted=49569837.547914, expected=9309787.000000\n",
      "predicted=49840592.788434, expected=9351109.000000\n",
      "predicted=50034975.137839, expected=9392919.000000\n",
      "predicted=50262095.537197, expected=9431691.000000\n",
      "predicted=50607926.600087, expected=9462809.000000\n",
      "predicted=50888744.932383, expected=9499413.000000\n",
      "predicted=51146305.098436, expected=9534964.000000\n",
      "predicted=51455596.539809, expected=9571559.000000\n",
      "predicted=51655300.955275, expected=9608211.000000\n",
      "predicted=51764221.199202, expected=9644222.000000\n",
      "predicted=51988112.236438, expected=9677203.000000\n",
      "predicted=52305013.047057, expected=9703770.000000\n",
      "predicted=52570629.168870, expected=9735850.000000\n",
      "Test RMSE: 19476145.631\n"
     ]
    },
    {
     "data": {
      "image/png": "[encoded data removed]",
      "text/plain": [
       "<Figure size 720x216 with 1 Axes>"
      ]
     },
     "metadata": {
      "needs_background": "light"
     },
     "output_type": "display_data"
    }
   ],
   "source": [
    "X = data.values\n",
    "train, test = X[0:84], X[84:]\n",
    "model = AutoReg(train, lags=26)\n",
    "model_fit = model.fit()\n",
    "coef = model_fit.params\n",
    "# walk forward over time steps in test\n",
    "window = 26\n",
    "history = train[len(train)-window:]\n",
    "history = [history[i] for i in range(len(history))]\n",
    "predictions = list()\n",
    "for t in range(len(test)):\n",
    "    length = len(history)\n",
    "    lag = [history[i] for i in range(length-window,length)]\n",
    "    yhat = coef[0]\n",
    "    for d in range(window):\n",
    "        yhat += coef[d+1] * lag[window-d-1]\n",
    "    obs = test[t]\n",
    "    predictions.append(yhat)\n",
    "    history.append(obs)\n",
    "    print('predicted=%f, expected=%f' % (yhat, obs))\n",
    "rmse = sqrt(mean_squared_error(test, predictions))\n",
    "print('Test RMSE: %.3f' % rmse)\n",
    "# plot\n",
    "fig = plt.figure(figsize = (10,3))\n",
    "plt.plot(test,label='Original Data')\n",
    "plt.plot(predictions, color='red',label = 'Predicted Data')\n",
    "plt.legend(loc = 2)\n",
    "plt.show()"
   ]
  },
  {
   "cell_type": "code",
   "execution_count": 30,
   "metadata": {},
   "outputs": [
    {
     "data": {
      "text/plain": [
       "26331.69764228935"
      ]
     },
     "execution_count": 30,
     "metadata": {},
     "output_type": "execute_result"
    }
   ],
   "source": [
    "predictions[1]"
   ]
  },
  {
   "cell_type": "code",
   "execution_count": 31,
   "metadata": {},
   "outputs": [
    {
     "data": {
      "text/plain": [
       "NewDate\n",
       "2020-04-24    23452\n",
       "Name: Confirmed, dtype: int64"
      ]
     },
     "execution_count": 31,
     "metadata": {},
     "output_type": "execute_result"
    }
   ],
   "source": [
    "data.iloc[85:86]"
   ]
  },
  {
   "cell_type": "markdown",
   "metadata": {},
   "source": [
    "By manually getting the hypothesis function using the coefficients of the AutoReg function, we predicted the value for each day on every iteration. So, basically the model becomes sligthly better after every day. As you can see, this method seems to have the least error."
   ]
  },
  {
   "cell_type": "code",
   "execution_count": 32,
   "metadata": {},
   "outputs": [],
   "source": [
    "datadf = total.drop(['Cured','Sno','Deaths'],axis = 1)\n",
    "new_df = datadf.copy()"
   ]
  },
  {
   "cell_type": "markdown",
   "metadata": {},
   "source": [
    "### MA, CMA and EMA"
   ]
  },
  {
   "cell_type": "code",
   "execution_count": 33,
   "metadata": {},
   "outputs": [],
   "source": [
    "new_df['EMA'] = datadf.iloc[:,0].ewm(span=40,adjust=False).mean()\n",
    "new_df['CMA'] = datadf.expanding(min_periods=4).mean()"
   ]
  },
  {
   "cell_type": "code",
   "execution_count": 34,
   "metadata": {},
   "outputs": [
    {
     "data": {
      "text/plain": [
       "<matplotlib.legend.Legend at 0x1e1fc58b748>"
      ]
     },
     "execution_count": 34,
     "metadata": {},
     "output_type": "execute_result"
    },
    {
     "data": {
      "image/png": "[encoded data removed]",
      "text/plain": [
       "<Figure size 720x216 with 1 Axes>"
      ]
     },
     "metadata": {
      "needs_background": "light"
     },
     "output_type": "display_data"
    }
   ],
   "source": [
    "fig = plt.figure(figsize=(10,3))\n",
    "plt.plot(new_df['EMA'],label='Exponential')\n",
    "plt.plot(new_df['Confirmed'],label = 'Confirmed')\n",
    "plt.plot(new_df['CMA'],label = 'Cummulative')\n",
    "plt.legend(loc = 2)"
   ]
  },
  {
   "cell_type": "markdown",
   "metadata": {},
   "source": [
    "Typically, EMA does outperform CMA"
   ]
  },
  {
   "cell_type": "code",
   "execution_count": 35,
   "metadata": {},
   "outputs": [],
   "source": [
    "from statsmodels.tsa.arima.model import ARIMA"
   ]
  },
  {
   "cell_type": "code",
   "execution_count": 36,
   "metadata": {},
   "outputs": [],
   "source": [
    "# evaluate an ARIMA model for a given order (p,d,q)\n",
    "def evaluate_arima_model(X, arima_order):\n",
    "    # prepare training dataset\n",
    "    train_size = 315-9\n",
    "    train, test = newdata.values, newtest.values\n",
    "    history = [x for x in train]\n",
    "    # make predictions\n",
    "    predictions = list()\n",
    "    for t in range(len(test)):\n",
    "        model = ARIMA(history, order=arima_order)\n",
    "        model_fit = model.fit()\n",
    "        yhat = model_fit.forecast()[0]\n",
    "        predictions.append(yhat)\n",
    "        history.append(test[t])\n",
    "    # calculate out of sample error\n",
    "    error = sqrt(mean_squared_error(test, predictions))\n",
    "    return error"
   ]
  },
  {
   "cell_type": "code",
   "execution_count": 254,
   "metadata": {},
   "outputs": [],
   "source": [
    "# evaluate an ARIMA model for a given order (p,d,q)\n",
    "def evaluate_arima_model_with_plot(X, arima_order):\n",
    "    # prepare training dataset\n",
    "    train, test = X[0:54], X[54:]\n",
    "    train_size = len(train)\n",
    "    history = [x for x in train]\n",
    "    # make predictions\n",
    "    predictions = list()\n",
    "    for t in range(len(test)):\n",
    "        model = ARIMA(history, order=arima_order)\n",
    "        model_fit = model.fit()\n",
    "        yhat = model_fit.forecast()[0]\n",
    "        predictions.append(yhat)\n",
    "        history.append(test[t])\n",
    "    # calculate out of sample error\n",
    "    print(train.shape)\n",
    "    print(test.shape)\n",
    "    print(len(predictions))\n",
    "    error = sqrt(mean_squared_error(test, predictions))\n",
    "    fg = plt.figure(figsize = (10,3))\n",
    "    plt.plot(test,color = 'blue',label = 'Actual Observation')\n",
    "    plt.plot(predictions, color='red',label = 'Prediction')\n",
    "    plt.legend()\n",
    "    plt.show()\n",
    "    return error"
   ]
  },
  {
   "cell_type": "code",
   "execution_count": null,
   "metadata": {},
   "outputs": [],
   "source": []
  },
  {
   "cell_type": "code",
   "execution_count": 202,
   "metadata": {},
   "outputs": [],
   "source": [
    "# evaluate combinations of p, d and q values for an ARIMA model\n",
    "def evaluate_models(dataset, p_values, d_values, q_values):\n",
    "    dataset = dataset.astype('float32')\n",
    "    best_score, best_cfg = float(\"inf\"), None\n",
    "    for p in p_values:\n",
    "        for d in d_values:\n",
    "            for q in q_values:\n",
    "                order = (p,d,q)\n",
    "                try:\n",
    "                    mse = evaluate_arima_model(dataset, order)\n",
    "                    if mse < best_score:\n",
    "                        best_score, best_cfg = mse, order\n",
    "                    print('ARIMA%s RMSE=%.3f' % (order,mse))\n",
    "                except:\n",
    "                    continue\n",
    "    print('Best ARIMA%s MSE=%.3f' % (best_cfg, best_score))\n",
    "    "
   ]
  },
  {
   "cell_type": "code",
   "execution_count": 39,
   "metadata": {},
   "outputs": [
    {
     "name": "stdout",
     "output_type": "stream",
     "text": [
      "Best ARIMANone MSE=inf\n"
     ]
    }
   ],
   "source": [
    "import warnings\n",
    "warnings.filterwarnings(\"ignore\")\n",
    "evaluate_models(data.values,[5,6,7],[4,2,3],[1,2,3])"
   ]
  },
  {
   "cell_type": "code",
   "execution_count": 255,
   "metadata": {
    "scrolled": true
   },
   "outputs": [
    {
     "name": "stdout",
     "output_type": "stream",
     "text": [
      "(54,)\n",
      "(261,)\n",
      "261\n"
     ]
    },
    {
     "data": {
      "image/png": "[encoded data removed]",
      "text/plain": [
       "<Figure size 720x216 with 1 Axes>"
      ]
     },
     "metadata": {
      "needs_background": "light"
     },
     "output_type": "display_data"
    },
    {
     "data": {
      "text/plain": [
       "3710.8840198150274"
      ]
     },
     "execution_count": 255,
     "metadata": {},
     "output_type": "execute_result"
    }
   ],
   "source": [
    "evaluate_arima_model_with_plot(data.values,[5,2,1])"
   ]
  },
  {
   "cell_type": "code",
   "execution_count": 41,
   "metadata": {},
   "outputs": [
    {
     "name": "stdout",
     "output_type": "stream",
     "text": [
      "(84,)\n",
      "(231,)\n",
      "231\n"
     ]
    },
    {
     "data": {
      "image/png": "[encoded data removed]",
      "text/plain": [
       "<Figure size 720x216 with 1 Axes>"
      ]
     },
     "metadata": {
      "needs_background": "light"
     },
     "output_type": "display_data"
    },
    {
     "data": {
      "text/plain": [
       "3943.392725138957"
      ]
     },
     "execution_count": 41,
     "metadata": {},
     "output_type": "execute_result"
    }
   ],
   "source": [
    "evaluate_arima_model_with_plot(data.values,[5,2,1])"
   ]
  },
  {
   "cell_type": "markdown",
   "metadata": {},
   "source": [
    "This seems to be really promising, but there's no harm done in trying another forecasting method"
   ]
  },
  {
   "cell_type": "markdown",
   "metadata": {},
   "source": [
    "### Exponential Smoothing"
   ]
  },
  {
   "cell_type": "code",
   "execution_count": 42,
   "metadata": {},
   "outputs": [],
   "source": [
    "from statsmodels.tsa.holtwinters import ExponentialSmoothing\n",
    "def expo_smoothn(dataset):\n",
    "    model = ExponentialSmoothing(dataset, trend='add')\n",
    "    # fit model\n",
    "    model_fit = model.fit(optimized=True)\n",
    "    # make one step forecast\n",
    "    yhat = model_fit.predict(len(dataset), len(dataset))\n",
    "    return yhat"
   ]
  },
  {
   "cell_type": "code",
   "execution_count": 225,
   "metadata": {},
   "outputs": [],
   "source": [
    "def evaluate_expo_smoothn_with_plot(X):\n",
    "    # prepare training dataset\n",
    "    train, test = X[0:27], X[27:54]\n",
    "    history = [x for x in train]\n",
    "    # make predictions\n",
    "    predictions = list()\n",
    "    for t in range(len(test)):\n",
    "        yhat = expo_smoothn(history)\n",
    "        predictions.append(yhat)\n",
    "        history.append(test[t])\n",
    "    # calculate out of sample error\n",
    "    error = sqrt(mean_squared_error(test, predictions))\n",
    "    fg = plt.figure(figsize = (10,3))\n",
    "    plt.plot(test,color = 'blue',label = 'Actual Observation')\n",
    "    plt.plot(predictions, color='red',label = 'Prediction')\n",
    "    plt.legend()\n",
    "    plt.show()\n",
    "    return error"
   ]
  },
  {
   "cell_type": "code",
   "execution_count": null,
   "metadata": {},
   "outputs": [],
   "source": []
  },
  {
   "cell_type": "code",
   "execution_count": 170,
   "metadata": {
    "scrolled": true
   },
   "outputs": [
    {
     "data": {
      "text/html": [
       "<div>\n",
       "<style scoped>\n",
       "    .dataframe tbody tr th:only-of-type {\n",
       "        vertical-align: middle;\n",
       "    }\n",
       "\n",
       "    .dataframe tbody tr th {\n",
       "        vertical-align: top;\n",
       "    }\n",
       "\n",
       "    .dataframe thead th {\n",
       "        text-align: right;\n",
       "    }\n",
       "</style>\n",
       "<table border=\"1\" class=\"dataframe\">\n",
       "  <thead>\n",
       "    <tr style=\"text-align: right;\">\n",
       "      <th></th>\n",
       "      <th>Sno</th>\n",
       "      <th>Cured</th>\n",
       "      <th>Deaths</th>\n",
       "      <th>Confirmed</th>\n",
       "    </tr>\n",
       "    <tr>\n",
       "      <th>NewDate</th>\n",
       "      <th></th>\n",
       "      <th></th>\n",
       "      <th></th>\n",
       "      <th></th>\n",
       "    </tr>\n",
       "  </thead>\n",
       "  <tbody>\n",
       "    <tr>\n",
       "      <td>2020-02-01</td>\n",
       "      <td>3</td>\n",
       "      <td>0</td>\n",
       "      <td>0</td>\n",
       "      <td>2</td>\n",
       "    </tr>\n",
       "    <tr>\n",
       "      <td>2020-02-02</td>\n",
       "      <td>4</td>\n",
       "      <td>0</td>\n",
       "      <td>0</td>\n",
       "      <td>3</td>\n",
       "    </tr>\n",
       "    <tr>\n",
       "      <td>2020-02-03</td>\n",
       "      <td>5</td>\n",
       "      <td>0</td>\n",
       "      <td>0</td>\n",
       "      <td>3</td>\n",
       "    </tr>\n",
       "    <tr>\n",
       "      <td>2020-02-04</td>\n",
       "      <td>6</td>\n",
       "      <td>0</td>\n",
       "      <td>0</td>\n",
       "      <td>3</td>\n",
       "    </tr>\n",
       "    <tr>\n",
       "      <td>2020-02-05</td>\n",
       "      <td>7</td>\n",
       "      <td>0</td>\n",
       "      <td>0</td>\n",
       "      <td>3</td>\n",
       "    </tr>\n",
       "    <tr>\n",
       "      <td>2020-02-06</td>\n",
       "      <td>8</td>\n",
       "      <td>0</td>\n",
       "      <td>0</td>\n",
       "      <td>3</td>\n",
       "    </tr>\n",
       "    <tr>\n",
       "      <td>2020-02-07</td>\n",
       "      <td>9</td>\n",
       "      <td>0</td>\n",
       "      <td>0</td>\n",
       "      <td>3</td>\n",
       "    </tr>\n",
       "    <tr>\n",
       "      <td>2020-02-08</td>\n",
       "      <td>10</td>\n",
       "      <td>0</td>\n",
       "      <td>0</td>\n",
       "      <td>3</td>\n",
       "    </tr>\n",
       "    <tr>\n",
       "      <td>2020-02-09</td>\n",
       "      <td>11</td>\n",
       "      <td>0</td>\n",
       "      <td>0</td>\n",
       "      <td>3</td>\n",
       "    </tr>\n",
       "    <tr>\n",
       "      <td>2020-02-10</td>\n",
       "      <td>12</td>\n",
       "      <td>0</td>\n",
       "      <td>0</td>\n",
       "      <td>3</td>\n",
       "    </tr>\n",
       "    <tr>\n",
       "      <td>2020-02-11</td>\n",
       "      <td>13</td>\n",
       "      <td>0</td>\n",
       "      <td>0</td>\n",
       "      <td>3</td>\n",
       "    </tr>\n",
       "    <tr>\n",
       "      <td>2020-02-12</td>\n",
       "      <td>14</td>\n",
       "      <td>0</td>\n",
       "      <td>0</td>\n",
       "      <td>3</td>\n",
       "    </tr>\n",
       "    <tr>\n",
       "      <td>2020-02-13</td>\n",
       "      <td>15</td>\n",
       "      <td>0</td>\n",
       "      <td>0</td>\n",
       "      <td>3</td>\n",
       "    </tr>\n",
       "    <tr>\n",
       "      <td>2020-02-14</td>\n",
       "      <td>16</td>\n",
       "      <td>0</td>\n",
       "      <td>0</td>\n",
       "      <td>3</td>\n",
       "    </tr>\n",
       "    <tr>\n",
       "      <td>2020-02-15</td>\n",
       "      <td>17</td>\n",
       "      <td>0</td>\n",
       "      <td>0</td>\n",
       "      <td>3</td>\n",
       "    </tr>\n",
       "    <tr>\n",
       "      <td>2020-02-16</td>\n",
       "      <td>18</td>\n",
       "      <td>0</td>\n",
       "      <td>0</td>\n",
       "      <td>3</td>\n",
       "    </tr>\n",
       "    <tr>\n",
       "      <td>2020-02-17</td>\n",
       "      <td>19</td>\n",
       "      <td>0</td>\n",
       "      <td>0</td>\n",
       "      <td>3</td>\n",
       "    </tr>\n",
       "    <tr>\n",
       "      <td>2020-02-18</td>\n",
       "      <td>20</td>\n",
       "      <td>0</td>\n",
       "      <td>0</td>\n",
       "      <td>3</td>\n",
       "    </tr>\n",
       "    <tr>\n",
       "      <td>2020-02-19</td>\n",
       "      <td>21</td>\n",
       "      <td>0</td>\n",
       "      <td>0</td>\n",
       "      <td>3</td>\n",
       "    </tr>\n",
       "    <tr>\n",
       "      <td>2020-02-20</td>\n",
       "      <td>22</td>\n",
       "      <td>0</td>\n",
       "      <td>0</td>\n",
       "      <td>3</td>\n",
       "    </tr>\n",
       "    <tr>\n",
       "      <td>2020-02-21</td>\n",
       "      <td>23</td>\n",
       "      <td>0</td>\n",
       "      <td>0</td>\n",
       "      <td>3</td>\n",
       "    </tr>\n",
       "    <tr>\n",
       "      <td>2020-02-22</td>\n",
       "      <td>24</td>\n",
       "      <td>0</td>\n",
       "      <td>0</td>\n",
       "      <td>3</td>\n",
       "    </tr>\n",
       "    <tr>\n",
       "      <td>2020-02-23</td>\n",
       "      <td>25</td>\n",
       "      <td>0</td>\n",
       "      <td>0</td>\n",
       "      <td>3</td>\n",
       "    </tr>\n",
       "    <tr>\n",
       "      <td>2020-02-24</td>\n",
       "      <td>26</td>\n",
       "      <td>0</td>\n",
       "      <td>0</td>\n",
       "      <td>3</td>\n",
       "    </tr>\n",
       "    <tr>\n",
       "      <td>2020-02-25</td>\n",
       "      <td>27</td>\n",
       "      <td>0</td>\n",
       "      <td>0</td>\n",
       "      <td>3</td>\n",
       "    </tr>\n",
       "    <tr>\n",
       "      <td>2020-02-26</td>\n",
       "      <td>28</td>\n",
       "      <td>0</td>\n",
       "      <td>0</td>\n",
       "      <td>3</td>\n",
       "    </tr>\n",
       "    <tr>\n",
       "      <td>2020-02-27</td>\n",
       "      <td>29</td>\n",
       "      <td>0</td>\n",
       "      <td>0</td>\n",
       "      <td>3</td>\n",
       "    </tr>\n",
       "    <tr>\n",
       "      <td>2020-02-28</td>\n",
       "      <td>30</td>\n",
       "      <td>0</td>\n",
       "      <td>0</td>\n",
       "      <td>3</td>\n",
       "    </tr>\n",
       "    <tr>\n",
       "      <td>2020-02-29</td>\n",
       "      <td>31</td>\n",
       "      <td>0</td>\n",
       "      <td>0</td>\n",
       "      <td>3</td>\n",
       "    </tr>\n",
       "  </tbody>\n",
       "</table>\n",
       "</div>"
      ],
      "text/plain": [
       "            Sno  Cured  Deaths  Confirmed\n",
       "NewDate                                  \n",
       "2020-02-01    3      0       0          2\n",
       "2020-02-02    4      0       0          3\n",
       "2020-02-03    5      0       0          3\n",
       "2020-02-04    6      0       0          3\n",
       "2020-02-05    7      0       0          3\n",
       "2020-02-06    8      0       0          3\n",
       "2020-02-07    9      0       0          3\n",
       "2020-02-08   10      0       0          3\n",
       "2020-02-09   11      0       0          3\n",
       "2020-02-10   12      0       0          3\n",
       "2020-02-11   13      0       0          3\n",
       "2020-02-12   14      0       0          3\n",
       "2020-02-13   15      0       0          3\n",
       "2020-02-14   16      0       0          3\n",
       "2020-02-15   17      0       0          3\n",
       "2020-02-16   18      0       0          3\n",
       "2020-02-17   19      0       0          3\n",
       "2020-02-18   20      0       0          3\n",
       "2020-02-19   21      0       0          3\n",
       "2020-02-20   22      0       0          3\n",
       "2020-02-21   23      0       0          3\n",
       "2020-02-22   24      0       0          3\n",
       "2020-02-23   25      0       0          3\n",
       "2020-02-24   26      0       0          3\n",
       "2020-02-25   27      0       0          3\n",
       "2020-02-26   28      0       0          3\n",
       "2020-02-27   29      0       0          3\n",
       "2020-02-28   30      0       0          3\n",
       "2020-02-29   31      0       0          3"
      ]
     },
     "execution_count": 170,
     "metadata": {},
     "output_type": "execute_result"
    }
   ],
   "source": [
    "total[total.index.month==2]"
   ]
  },
  {
   "cell_type": "code",
   "execution_count": 226,
   "metadata": {
    "scrolled": true
   },
   "outputs": [
    {
     "data": {
      "image/png": "[encoded data removed]",
      "text/plain": [
       "<Figure size 720x216 with 1 Axes>"
      ]
     },
     "metadata": {
      "needs_background": "light"
     },
     "output_type": "display_data"
    },
    {
     "data": {
      "text/plain": [
       "12.774430023851574"
      ]
     },
     "execution_count": 226,
     "metadata": {},
     "output_type": "execute_result"
    }
   ],
   "source": [
    "evaluate_expo_smoothn_with_plot(data.values)"
   ]
  },
  {
   "cell_type": "code",
   "execution_count": 102,
   "metadata": {},
   "outputs": [
    {
     "data": {
      "text/plain": [
       "NewDate\n",
       "2020-01-30      1\n",
       "2020-01-31      1\n",
       "2020-02-01      2\n",
       "2020-02-02      3\n",
       "2020-02-03      3\n",
       "2020-02-04      3\n",
       "2020-02-05      3\n",
       "2020-02-06      3\n",
       "2020-02-07      3\n",
       "2020-02-08      3\n",
       "2020-02-09      3\n",
       "2020-02-10      3\n",
       "2020-02-11      3\n",
       "2020-02-12      3\n",
       "2020-02-13      3\n",
       "2020-02-14      3\n",
       "2020-02-15      3\n",
       "2020-02-16      3\n",
       "2020-02-17      3\n",
       "2020-02-18      3\n",
       "2020-02-19      3\n",
       "2020-02-20      3\n",
       "2020-02-21      3\n",
       "2020-02-22      3\n",
       "2020-02-23      3\n",
       "2020-02-24      3\n",
       "2020-02-25      3\n",
       "2020-02-26      3\n",
       "2020-02-27      3\n",
       "2020-02-28      3\n",
       "2020-02-29      3\n",
       "2020-03-01      3\n",
       "2020-03-02      5\n",
       "2020-03-03      6\n",
       "2020-03-04     28\n",
       "2020-03-05     30\n",
       "2020-03-06     31\n",
       "2020-03-07     34\n",
       "2020-03-08     39\n",
       "2020-03-09     46\n",
       "2020-03-10     58\n",
       "2020-03-11     60\n",
       "2020-03-12     74\n",
       "2020-03-13     81\n",
       "2020-03-14     84\n",
       "2020-03-15    110\n",
       "2020-03-16    114\n",
       "2020-03-17    137\n",
       "2020-03-18    151\n",
       "2020-03-19    173\n",
       "2020-03-20    223\n",
       "2020-03-21    283\n",
       "2020-03-22    360\n",
       "Name: Confirmed, dtype: int64"
      ]
     },
     "execution_count": 102,
     "metadata": {},
     "output_type": "execute_result"
    }
   ],
   "source": [
    "data[0:53]"
   ]
  },
  {
   "cell_type": "markdown",
   "metadata": {},
   "source": [
    "23 March 2020"
   ]
  },
  {
   "cell_type": "code",
   "execution_count": 47,
   "metadata": {},
   "outputs": [
    {
     "data": {
      "text/plain": [
       "NewDate\n",
       "2020-01-30    1\n",
       "2020-01-31    1\n",
       "2020-02-01    2\n",
       "2020-02-02    3\n",
       "2020-02-03    3\n",
       "Name: Confirmed, dtype: int64"
      ]
     },
     "execution_count": 47,
     "metadata": {},
     "output_type": "execute_result"
    }
   ],
   "source": [
    "data.head()"
   ]
  },
  {
   "cell_type": "code",
   "execution_count": 48,
   "metadata": {},
   "outputs": [
    {
     "data": {
      "text/plain": [
       "NewDate\n",
       "2020-01-30    1\n",
       "2020-01-31    1\n",
       "2020-02-01    2\n",
       "2020-02-02    3\n",
       "2020-02-03    3\n",
       "Name: Confirmed, dtype: int64"
      ]
     },
     "execution_count": 48,
     "metadata": {},
     "output_type": "execute_result"
    }
   ],
   "source": [
    "data.head()"
   ]
  },
  {
   "cell_type": "code",
   "execution_count": 49,
   "metadata": {},
   "outputs": [
    {
     "data": {
      "text/plain": [
       "NewDate\n",
       "2020-12-05    9608211\n",
       "2020-12-06    9644222\n",
       "2020-12-07    9677203\n",
       "2020-12-08    9703770\n",
       "2020-12-09    9735850\n",
       "Name: Confirmed, dtype: int64"
      ]
     },
     "execution_count": 49,
     "metadata": {},
     "output_type": "execute_result"
    }
   ],
   "source": [
    "data.tail()"
   ]
  },
  {
   "cell_type": "code",
   "execution_count": 50,
   "metadata": {},
   "outputs": [
    {
     "data": {
      "text/plain": [
       "NewDate\n",
       "2020-04-23    21700\n",
       "Name: Confirmed, dtype: int64"
      ]
     },
     "execution_count": 50,
     "metadata": {},
     "output_type": "execute_result"
    }
   ],
   "source": [
    "data.iloc[84:85]"
   ]
  },
  {
   "cell_type": "code",
   "execution_count": 73,
   "metadata": {},
   "outputs": [
    {
     "data": {
      "text/plain": [
       "NewDate\n",
       "2020-03-01       3\n",
       "2020-03-02       5\n",
       "2020-03-03       6\n",
       "2020-03-04      28\n",
       "2020-03-05      30\n",
       "2020-03-06      31\n",
       "2020-03-07      34\n",
       "2020-03-08      39\n",
       "2020-03-09      46\n",
       "2020-03-10      58\n",
       "2020-03-11      60\n",
       "2020-03-12      74\n",
       "2020-03-13      81\n",
       "2020-03-14      84\n",
       "2020-03-15     110\n",
       "2020-03-16     114\n",
       "2020-03-17     137\n",
       "2020-03-18     151\n",
       "2020-03-19     173\n",
       "2020-03-20     223\n",
       "2020-03-21     283\n",
       "2020-03-22     360\n",
       "2020-03-23     433\n",
       "2020-03-24     519\n",
       "2020-03-25     606\n",
       "2020-03-26     694\n",
       "2020-03-27     724\n",
       "2020-03-28     909\n",
       "2020-03-29    1024\n",
       "2020-03-30    1251\n",
       "2020-03-31    1397\n",
       "Name: Confirmed, dtype: int64"
      ]
     },
     "execution_count": 73,
     "metadata": {},
     "output_type": "execute_result"
    }
   ],
   "source": [
    "newdata = data[(data.index.month<=2)|((data.index.month==3)&(data.index.day<=16))]\n",
    "newtest = data[((data.index.month==3)&(data.index.day>=17))|((data.index.month==3)&(data.index.day<=23))]\n",
    "newtest"
   ]
  },
  {
   "cell_type": "code",
   "execution_count": 74,
   "metadata": {},
   "outputs": [
    {
     "name": "stdout",
     "output_type": "stream",
     "text": [
      "predicted=133.586985, expected=3.000000\n",
      "predicted=54.653912, expected=5.000000\n",
      "predicted=11.564738, expected=6.000000\n",
      "predicted=4.208373, expected=28.000000\n",
      "predicted=61.748285, expected=30.000000\n",
      "predicted=13.867692, expected=31.000000\n",
      "predicted=38.415126, expected=34.000000\n",
      "predicted=33.136243, expected=39.000000\n",
      "predicted=48.112464, expected=46.000000\n",
      "predicted=52.521560, expected=58.000000\n",
      "predicted=63.843375, expected=60.000000\n",
      "predicted=69.885571, expected=74.000000\n",
      "predicted=82.660878, expected=81.000000\n",
      "predicted=90.924146, expected=84.000000\n",
      "predicted=101.979914, expected=110.000000\n",
      "predicted=117.681256, expected=114.000000\n",
      "predicted=133.586985, expected=137.000000\n",
      "predicted=157.040826, expected=151.000000\n",
      "predicted=166.225071, expected=173.000000\n",
      "predicted=202.517197, expected=223.000000\n",
      "predicted=239.114006, expected=283.000000\n",
      "predicted=310.361593, expected=360.000000\n",
      "predicted=392.052005, expected=433.000000\n",
      "predicted=472.714769, expected=519.000000\n",
      "predicted=573.802228, expected=606.000000\n",
      "predicted=672.905077, expected=694.000000\n",
      "predicted=783.705889, expected=724.000000\n",
      "predicted=840.876584, expected=909.000000\n",
      "predicted=1004.757058, expected=1024.000000\n",
      "predicted=1152.668288, expected=1251.000000\n",
      "predicted=1413.601972, expected=1397.000000\n",
      "Test RMSE: 40.317\n"
     ]
    },
    {
     "data": {
      "image/png": "[encoded data removed]",
      "text/plain": [
       "<Figure size 720x216 with 1 Axes>"
      ]
     },
     "metadata": {
      "needs_background": "light"
     },
     "output_type": "display_data"
    }
   ],
   "source": [
    "X = data.values\n",
    "train, test = newdata.values, newtest.values\n",
    "model = AutoReg(train, lags=6)\n",
    "model_fit = model.fit()\n",
    "coef = model_fit.params\n",
    "# walk forward over time steps in test\n",
    "window = 6\n",
    "history = train[len(train)-window:]\n",
    "history = [history[i] for i in range(len(history))]\n",
    "predictions = list()\n",
    "for t in range(len(test)):\n",
    "    length = len(history)\n",
    "    lag = [history[i] for i in range(length-window,length)]\n",
    "    yhat = coef[0]\n",
    "    for d in range(window):\n",
    "        yhat += coef[d+1] * lag[window-d-1]\n",
    "    obs = test[t]\n",
    "    predictions.append(yhat)\n",
    "    history.append(obs)\n",
    "    print('predicted=%f, expected=%f' % (yhat, obs))\n",
    "rmse = sqrt(mean_squared_error(test, predictions))\n",
    "print('Test RMSE: %.3f' % rmse)\n",
    "# plot\n",
    "fig = plt.figure(figsize = (10,3))\n",
    "plt.plot(test,label = 'Original Data')\n",
    "plt.plot(predictions, color='red',label = 'Predicted Data')\n",
    "plt.xlabel('Days')\n",
    "plt.ylabel('No.of Cases')\n",
    "plt.legend()\n",
    "plt.show()"
   ]
  },
  {
   "cell_type": "code",
   "execution_count": 53,
   "metadata": {},
   "outputs": [
    {
     "data": {
      "text/plain": [
       "0.6431045859452339"
      ]
     },
     "execution_count": 53,
     "metadata": {},
     "output_type": "execute_result"
    }
   ],
   "source": [
    "predictions[-1]/test[-1]"
   ]
  },
  {
   "cell_type": "markdown",
   "metadata": {},
   "source": []
  },
  {
   "cell_type": "code",
   "execution_count": 54,
   "metadata": {},
   "outputs": [
    {
     "data": {
      "text/plain": [
       "[<matplotlib.lines.Line2D at 0x1e1ff562588>]"
      ]
     },
     "execution_count": 54,
     "metadata": {},
     "output_type": "execute_result"
    },
    {
     "data": {
      "image/png": "[encoded data removed]",
      "text/plain": [
       "<Figure size 720x216 with 1 Axes>"
      ]
     },
     "metadata": {
      "needs_background": "light"
     },
     "output_type": "display_data"
    }
   ],
   "source": [
    "fig = plt.figure(figsize = (10,3))\n",
    "plt.plot(total.Confirmed)\n",
    "plt.plot(total.Deaths)"
   ]
  },
  {
   "cell_type": "markdown",
   "metadata": {},
   "source": []
  },
  {
   "cell_type": "markdown",
   "metadata": {},
   "source": [
    "Lets see the difference between the infection rate in February and November"
   ]
  },
  {
   "cell_type": "code",
   "execution_count": 55,
   "metadata": {},
   "outputs": [
    {
     "data": {
      "text/plain": [
       "3076237.3488372094"
      ]
     },
     "execution_count": 55,
     "metadata": {},
     "output_type": "execute_result"
    }
   ],
   "source": [
    "feb = total[total.index.month==2]\n",
    "rate1 = sum(feb.Confirmed)*100/1380004385\n",
    "nov = total[total.index.month==11]\n",
    "rate2 = sum(nov.Confirmed)*100/1380004385\n",
    "rate2/rate1"
   ]
  },
  {
   "cell_type": "markdown",
   "metadata": {},
   "source": [
    "the infection rate of November seems to be 3076237.34 times greater than the infection rate of February"
   ]
  },
  {
   "cell_type": "code",
   "execution_count": 56,
   "metadata": {},
   "outputs": [
    {
     "data": {
      "text/plain": [
       "626.2549935849181"
      ]
     },
     "execution_count": 56,
     "metadata": {},
     "output_type": "execute_result"
    }
   ],
   "source": [
    "april = total[total.index.month==4]\n",
    "rate1 = sum(april.Confirmed)*100/1380004385\n",
    "nov = total[total.index.month==11]\n",
    "rate2 = sum(nov.Confirmed)*100/1380004385\n",
    "rate2/rate1"
   ]
  },
  {
   "cell_type": "markdown",
   "metadata": {},
   "source": [
    "Unlock Phase"
   ]
  },
  {
   "cell_type": "code",
   "execution_count": 57,
   "metadata": {},
   "outputs": [],
   "source": [
    "june = total[total.index.month>=6]"
   ]
  },
  {
   "cell_type": "code",
   "execution_count": 58,
   "metadata": {},
   "outputs": [
    {
     "data": {
      "text/plain": [
       "[<matplotlib.lines.Line2D at 0x1e1ff5b0f08>]"
      ]
     },
     "execution_count": 58,
     "metadata": {},
     "output_type": "execute_result"
    },
    {
     "data": {
      "image/png": "[encoded data removed]",
      "text/plain": [
       "<Figure size 432x288 with 1 Axes>"
      ]
     },
     "metadata": {
      "needs_background": "light"
     },
     "output_type": "display_data"
    }
   ],
   "source": [
    "plt.plot(june.Confirmed)"
   ]
  },
  {
   "cell_type": "code",
   "execution_count": 141,
   "metadata": {},
   "outputs": [
    {
     "name": "stdout",
     "output_type": "stream",
     "text": [
      "predicted=-1419765869.110593, expected=519.000000\n",
      "predicted=1745147696194.182617, expected=606.000000\n",
      "Test RMSE: 1234006178095.017\n"
     ]
    },
    {
     "data": {
      "image/png": "[encoded data removed]",
      "text/plain": [
       "<Figure size 720x216 with 1 Axes>"
      ]
     },
     "metadata": {
      "needs_background": "light"
     },
     "output_type": "display_data"
    }
   ],
   "source": [
    "train, test = X[0:54],X[54:56]\n",
    "model = AutoReg(train, lags=50)\n",
    "model_fit = model.fit()\n",
    "coef = model_fit.params\n",
    "# walk forward over time steps in test\n",
    "window = 26\n",
    "history = train[len(train)-window:]\n",
    "history = [history[i] for i in range(len(history))]\n",
    "predictions = list()\n",
    "for t in range(len(test)):\n",
    "    length = len(history)\n",
    "    lag = [history[i] for i in range(length-window,length)]\n",
    "    yhat = coef[0]\n",
    "    for d in range(window):\n",
    "        yhat += coef[d+1] * lag[window-d-1]\n",
    "    obs = test[t]\n",
    "    predictions.append(yhat)\n",
    "    history.append(obs)\n",
    "    print('predicted=%f, expected=%f' % (yhat, obs))\n",
    "rmse = sqrt(mean_squared_error(test, predictions))\n",
    "print('Test RMSE: %.3f' % rmse)\n",
    "# plot\n",
    "fig = plt.figure(figsize = (10,3))\n",
    "plt.plot(test,label = 'Observation')\n",
    "plt.plot(predictions, color='red',label = 'Prediction')\n",
    "plt.xlabel('Days')\n",
    "plt.ylabel('No.of Cases')\n",
    "plt.legend()\n",
    "plt.show()"
   ]
  },
  {
   "cell_type": "code",
   "execution_count": 138,
   "metadata": {},
   "outputs": [
    {
     "data": {
      "text/plain": [
       "NewDate\n",
       "2020-03-24    519\n",
       "Name: Confirmed, dtype: int64"
      ]
     },
     "execution_count": 138,
     "metadata": {},
     "output_type": "execute_result"
    }
   ],
   "source": [
    "data[54:55]"
   ]
  },
  {
   "cell_type": "markdown",
   "metadata": {},
   "source": [
    "The unlocking of the lockdown does not seem to be detrimental. This plot shows that the unlock hasn't caused any downside."
   ]
  },
  {
   "cell_type": "markdown",
   "metadata": {},
   "source": [
    "Nov 7 – Nov 28 (Deepavali Season)"
   ]
  },
  {
   "cell_type": "code",
   "execution_count": 60,
   "metadata": {},
   "outputs": [],
   "source": [
    "deepavali_days = data[(data.index.month==11)&(data.index.day>=7)&(data.index.day<=28)]"
   ]
  },
  {
   "cell_type": "code",
   "execution_count": 61,
   "metadata": {},
   "outputs": [
    {
     "data": {
      "text/plain": [
       "[<matplotlib.lines.Line2D at 0x1e1ff5a5708>]"
      ]
     },
     "execution_count": 61,
     "metadata": {},
     "output_type": "execute_result"
    },
    {
     "data": {
      "image/png": "[encoded data removed]",
      "text/plain": [
       "<Figure size 432x288 with 1 Axes>"
      ]
     },
     "metadata": {
      "needs_background": "light"
     },
     "output_type": "display_data"
    }
   ],
   "source": [
    "plt.plot(deepavali_days)"
   ]
  },
  {
   "cell_type": "code",
   "execution_count": 62,
   "metadata": {},
   "outputs": [
    {
     "data": {
      "text/plain": [
       "NewDate\n",
       "2020-10-16    7370468\n",
       "2020-10-17    7432680\n",
       "2020-10-18    7494551\n",
       "2020-10-19    7550273\n",
       "2020-10-20    7597063\n",
       "Name: Confirmed, dtype: int64"
      ]
     },
     "execution_count": 62,
     "metadata": {},
     "output_type": "execute_result"
    }
   ],
   "source": [
    "train = data[((data.index.month==10)&(data.index.day>=16))|((data.index.day<7)&(data.index.month==11))]\n",
    "train.head()"
   ]
  },
  {
   "cell_type": "code",
   "execution_count": 63,
   "metadata": {},
   "outputs": [
    {
     "name": "stdout",
     "output_type": "stream",
     "text": [
      "predicted=8453828.787922, expected=8462080.000000\n",
      "predicted=8503461.241693, expected=8507754.000000\n",
      "predicted=8548478.969344, expected=8553657.000000\n",
      "predicted=8593722.406580, expected=8591730.000000\n",
      "predicted=8631248.350112, expected=8636011.000000\n",
      "predicted=8674893.093250, expected=8683916.000000\n",
      "predicted=8722109.764509, expected=8728795.000000\n",
      "predicted=8766343.915212, expected=8773479.000000\n",
      "predicted=8810385.867797, expected=8814579.000000\n",
      "predicted=8850895.317515, expected=8845127.000000\n",
      "predicted=8881004.384912, expected=8874290.000000\n",
      "predicted=8909748.352847, expected=8912907.000000\n",
      "predicted=8947810.479849, expected=8958483.000000\n",
      "predicted=8992731.615624, expected=9004365.000000\n",
      "predicted=9037954.354602, expected=9050597.000000\n",
      "predicted=9083522.064562, expected=9095806.000000\n",
      "predicted=9128081.473621, expected=9139865.000000\n",
      "predicted=9171507.406593, expected=9177840.000000\n",
      "predicted=9208936.758249, expected=9222216.000000\n",
      "predicted=9252675.136368, expected=9266705.000000\n",
      "predicted=9296524.890833, expected=9309787.000000\n",
      "predicted=9338987.861947, expected=9351109.000000\n",
      "Test RMSE: 9189.444\n"
     ]
    },
    {
     "data": {
      "image/png": "[encoded data removed]",
      "text/plain": [
       "<Figure size 720x216 with 1 Axes>"
      ]
     },
     "metadata": {
      "needs_background": "light"
     },
     "output_type": "display_data"
    }
   ],
   "source": [
    "train = train.values\n",
    "test = deepavali_days.values\n",
    "model1 = AutoReg(train, lags=1)\n",
    "model_fit = model1.fit()\n",
    "coef = model_fit.params\n",
    "# walk forward over time steps in test\n",
    "window = 1\n",
    "history = train[len(train)-window:]\n",
    "history = [history[i] for i in range(len(history))]\n",
    "predictions = list()\n",
    "for t in range(len(test)):\n",
    "    length = len(history)\n",
    "    lag = [history[i] for i in range(length-window,length)]\n",
    "    yhat = coef[0]\n",
    "    for d in range(window):\n",
    "        yhat += coef[d+1] * lag[window-d-1]\n",
    "    obs = test[t]\n",
    "    predictions.append(yhat)\n",
    "    history.append(obs)\n",
    "    print('predicted=%f, expected=%f' % (yhat, obs))\n",
    "rmse = sqrt(mean_squared_error(test, predictions))\n",
    "print('Test RMSE: %.3f' % rmse)\n",
    "# plot\n",
    "fig = plt.figure(figsize = (10,3))\n",
    "plt.plot(test,label = 'Observation')\n",
    "plt.plot(predictions, color='red',label = 'Prediction')\n",
    "plt.xlabel('Days')\n",
    "plt.ylabel('No.of Cases')\n",
    "plt.legend()\n",
    "plt.show()"
   ]
  },
  {
   "cell_type": "markdown",
   "metadata": {},
   "source": [
    "There seems to be no real difference between the predicted values and the actual values, showing that there is no significant impact of festival season on covid cases."
   ]
  },
  {
   "cell_type": "code",
   "execution_count": 64,
   "metadata": {},
   "outputs": [
    {
     "data": {
      "text/plain": [
       "[<matplotlib.lines.Line2D at 0x1e1ff6d5a08>]"
      ]
     },
     "execution_count": 64,
     "metadata": {},
     "output_type": "execute_result"
    },
    {
     "data": {
      "image/png": "[encoded data removed]",
      "text/plain": [
       "<Figure size 720x216 with 1 Axes>"
      ]
     },
     "metadata": {
      "needs_background": "light"
     },
     "output_type": "display_data"
    }
   ],
   "source": [
    "deaths = total.Deaths\n",
    "\n",
    "fig = plt.figure(figsize = (10,3))\n",
    "plt.plot(deaths)"
   ]
  },
  {
   "cell_type": "code",
   "execution_count": 65,
   "metadata": {},
   "outputs": [
    {
     "data": {
      "text/plain": [
       "<matplotlib.axes._subplots.AxesSubplot at 0x1e1ff7a67c8>"
      ]
     },
     "execution_count": 65,
     "metadata": {},
     "output_type": "execute_result"
    },
    {
     "data": {
      "image/png": "[encoded data removed]",
      "text/plain": [
       "<Figure size 432x288 with 1 Axes>"
      ]
     },
     "metadata": {
      "needs_background": "light"
     },
     "output_type": "display_data"
    }
   ],
   "source": [
    "sns.scatterplot(total.Confirmed,total.Deaths)"
   ]
  },
  {
   "cell_type": "markdown",
   "metadata": {},
   "source": [
    "Highly Correlated"
   ]
  },
  {
   "cell_type": "code",
   "execution_count": 66,
   "metadata": {},
   "outputs": [],
   "source": [
    "deepavali_days_d = deaths[(deaths.index.month==11)&(deaths.index.day>=7)&(deaths.index.day<=28)]\n",
    "train = deaths[(deaths.index.month<=10)|((deaths.index.day<7)&(deaths.index.month==11))]"
   ]
  },
  {
   "cell_type": "code",
   "execution_count": 67,
   "metadata": {},
   "outputs": [
    {
     "name": "stdout",
     "output_type": "stream",
     "text": [
      "predicted=125472.382656, expected=125562.000000\n",
      "predicted=126035.717562, expected=126121.000000\n",
      "predicted=126553.249989, expected=126611.000000\n",
      "predicted=127043.216077, expected=127059.000000\n",
      "predicted=127504.572265, expected=127571.000000\n",
      "predicted=128028.396594, expected=128121.000000\n",
      "predicted=128579.921388, expected=128668.000000\n",
      "predicted=129102.373200, expected=129188.000000\n",
      "predicted=129584.660452, expected=129635.000000\n",
      "predicted=130010.456826, expected=130070.000000\n",
      "predicted=130443.249291, expected=130519.000000\n",
      "predicted=130902.942616, expected=130993.000000\n",
      "predicted=131392.074206, expected=131578.000000\n",
      "predicted=131998.394168, expected=132162.000000\n",
      "predicted=132566.837923, expected=132726.000000\n",
      "predicted=133112.629493, expected=133227.000000\n",
      "predicted=133620.909783, expected=133738.000000\n",
      "predicted=134134.043692, expected=134218.000000\n",
      "predicted=134620.162211, expected=134699.000000\n",
      "predicted=135126.638424, expected=135223.000000\n",
      "predicted=135645.089720, expected=135715.000000\n",
      "predicted=136106.641803, expected=136200.000000\n",
      "Test RMSE: 99.203\n"
     ]
    },
    {
     "data": {
      "image/png": "[encoded data removed]",
      "text/plain": [
       "<Figure size 720x216 with 1 Axes>"
      ]
     },
     "metadata": {
      "needs_background": "light"
     },
     "output_type": "display_data"
    }
   ],
   "source": [
    "train = train.values\n",
    "test = deepavali_days_d.values\n",
    "model2 = AutoReg(train, lags=26)\n",
    "model_fit = model2.fit()\n",
    "coef = model_fit.params\n",
    "# walk forward over time steps in test\n",
    "window = 26\n",
    "history = train[len(train)-window:]\n",
    "history = [history[i] for i in range(len(history))]\n",
    "predictions = list()\n",
    "for t in range(len(test)):\n",
    "    length = len(history)\n",
    "    lag = [history[i] for i in range(length-window,length)]\n",
    "    yhat = coef[0]\n",
    "    for d in range(window):\n",
    "        yhat += coef[d+1] * lag[window-d-1]\n",
    "    obs = test[t]\n",
    "    predictions.append(yhat)\n",
    "    history.append(obs)\n",
    "    print('predicted=%f, expected=%f' % (yhat, obs))\n",
    "rmse = sqrt(mean_squared_error(test, predictions))\n",
    "print('Test RMSE: %.3f' % rmse)\n",
    "# plot\n",
    "fig = plt.figure(figsize = (10,3))\n",
    "plt.plot(test,label = 'Observation')\n",
    "plt.plot(predictions, color='red',label = 'Prediction')\n",
    "plt.xlabel('Days')\n",
    "plt.ylabel('No.of Cases')\n",
    "plt.legend()\n",
    "plt.show()"
   ]
  },
  {
   "cell_type": "code",
   "execution_count": 68,
   "metadata": {},
   "outputs": [
    {
     "data": {
      "text/plain": [
       "array([      1,       1,       2,       3,       3,       3,       3,\n",
       "             3,       3,       3,       3,       3,       3,       3,\n",
       "             3,       3,       3,       3,       3,       3,       3,\n",
       "             3,       3,       3,       3,       3,       3,       3,\n",
       "             3,       3,       3,       3,       5,       6,      28,\n",
       "            30,      31,      34,      39,      46,      58,      60,\n",
       "            74,      81,      84,     110,     114,     137,     151,\n",
       "           173,     223,     283,     360,     433,     519,     606,\n",
       "           694,     724,     909,    1024,    1251,    1397,    1834,\n",
       "          2069,    2547,    3072,    3577,    4281,    4789,    5274,\n",
       "          5865,    6761,    7529,    8447,    9352,   10815,   11933,\n",
       "         12759,   13835,   14792,   16116,   17656,   18985,   20471,\n",
       "         21700,   23452,   24893,   26605,   28160,   29834,   31709,\n",
       "         33330,   34972,   37157,   40124,   42836,   46711,   49391,\n",
       "         52952,   56342,   59662,   62939,   67152,   70756,   74281,\n",
       "         78003,   81970,   85710,   90637,   95759,  100325,  106750,\n",
       "        112359,  118447,  125101,  131868,  138845,  145380,  151767,\n",
       "        158333,  165799,  173763,  182143,  190535,  198706,  207615,\n",
       "        216919,  226770,  236657,  246628,  256611,  266598,  276583,\n",
       "        286579,  297535,  308993,  320922,  332424,  343091,  354065,\n",
       "        366946,  380532,  395048,  410461,  425282,  440215,  456183,\n",
       "        473105,  490401,  508953,  528859,  548318,  566840,  585493,\n",
       "        604641,  625544,  648315,  673165,  697413,  719665,  742417,\n",
       "        767296,  793802,  820916,  849553,  878254,  906752,  936181,\n",
       "        968876, 1003832, 1038716, 1077618, 1118043, 1155191, 1192915,\n",
       "       1238635, 1287945, 1336861, 1385522, 1435453, 1483156, 1531669,\n",
       "       1583792, 1638870, 1695988, 1750723, 1803695, 1855745, 1908254,\n",
       "       1964536, 2027074, 2088611, 2153010, 2215074, 2268675, 2329638,\n",
       "       2396637, 2461190, 2526192, 2589682, 2647663, 2702742, 2767273,\n",
       "       2836925, 2905823, 2975701, 3044940, 3106348, 3167323, 3234474,\n",
       "       3310234, 3387500, 3463972, 3542733, 3621245, 3691166, 3769523,\n",
       "       3853406, 3936747, 4023179, 4113811, 4204613, 4280422, 4370128,\n",
       "       4465863, 4562414, 4659984, 4754356, 4846427, 4930236, 5020359,\n",
       "       5118253, 5214677, 5308014, 5400619, 5487580, 5562663, 5646010,\n",
       "       5732518, 5818570, 5903932, 5992532, 6074702, 6145291, 6225763,\n",
       "       6312584, 6394068, 6473544, 6549373, 6623815, 6685082, 6757131,\n",
       "       6835655, 6906151, 6979423, 7053806, 7120538, 7175880, 7239389,\n",
       "       7307097, 7370468, 7432680, 7494551, 7550273, 7597063, 7651107,\n",
       "       7706946, 7761312, 7814682, 7864811, 7909959, 7946429, 7990322,\n",
       "       8040203, 8088851, 8137119, 8184082, 8229313, 8267623, 8313876,\n",
       "       8364086, 8411724, 8462080, 8507754, 8553657, 8591730, 8636011,\n",
       "       8683916, 8728795, 8773479, 8814579, 8845127, 8874290, 8912907,\n",
       "       8958483, 9004365, 9050597, 9095806, 9139865, 9177840, 9222216,\n",
       "       9266705, 9309787, 9351109, 9392919, 9431691, 9462809, 9499413,\n",
       "       9534964, 9571559, 9608211, 9644222, 9677203, 9703770, 9735850],\n",
       "      dtype=int64)"
      ]
     },
     "execution_count": 68,
     "metadata": {},
     "output_type": "execute_result"
    }
   ],
   "source": [
    "data.values"
   ]
  },
  {
   "cell_type": "code",
   "execution_count": 69,
   "metadata": {},
   "outputs": [
    {
     "data": {
      "text/html": [
       "<div>\n",
       "<style scoped>\n",
       "    .dataframe tbody tr th:only-of-type {\n",
       "        vertical-align: middle;\n",
       "    }\n",
       "\n",
       "    .dataframe tbody tr th {\n",
       "        vertical-align: top;\n",
       "    }\n",
       "\n",
       "    .dataframe thead th {\n",
       "        text-align: right;\n",
       "    }\n",
       "</style>\n",
       "<table border=\"1\" class=\"dataframe\">\n",
       "  <thead>\n",
       "    <tr style=\"text-align: right;\">\n",
       "      <th></th>\n",
       "      <th>Sno</th>\n",
       "      <th>Date</th>\n",
       "      <th>Time</th>\n",
       "      <th>State/UnionTerritory</th>\n",
       "      <th>ConfirmedIndianNational</th>\n",
       "      <th>ConfirmedForeignNational</th>\n",
       "      <th>Cured</th>\n",
       "      <th>Deaths</th>\n",
       "      <th>Confirmed</th>\n",
       "      <th>NewDate</th>\n",
       "    </tr>\n",
       "  </thead>\n",
       "  <tbody>\n",
       "    <tr>\n",
       "      <td>0</td>\n",
       "      <td>1</td>\n",
       "      <td>30/01/20</td>\n",
       "      <td>6:00 PM</td>\n",
       "      <td>Kerala</td>\n",
       "      <td>1</td>\n",
       "      <td>0</td>\n",
       "      <td>0</td>\n",
       "      <td>0</td>\n",
       "      <td>1</td>\n",
       "      <td>2020-01-30</td>\n",
       "    </tr>\n",
       "    <tr>\n",
       "      <td>1</td>\n",
       "      <td>2</td>\n",
       "      <td>31/01/20</td>\n",
       "      <td>6:00 PM</td>\n",
       "      <td>Kerala</td>\n",
       "      <td>1</td>\n",
       "      <td>0</td>\n",
       "      <td>0</td>\n",
       "      <td>0</td>\n",
       "      <td>1</td>\n",
       "      <td>2020-01-31</td>\n",
       "    </tr>\n",
       "    <tr>\n",
       "      <td>2</td>\n",
       "      <td>3</td>\n",
       "      <td>01/02/20</td>\n",
       "      <td>6:00 PM</td>\n",
       "      <td>Kerala</td>\n",
       "      <td>2</td>\n",
       "      <td>0</td>\n",
       "      <td>0</td>\n",
       "      <td>0</td>\n",
       "      <td>2</td>\n",
       "      <td>2020-02-01</td>\n",
       "    </tr>\n",
       "    <tr>\n",
       "      <td>3</td>\n",
       "      <td>4</td>\n",
       "      <td>02/02/20</td>\n",
       "      <td>6:00 PM</td>\n",
       "      <td>Kerala</td>\n",
       "      <td>3</td>\n",
       "      <td>0</td>\n",
       "      <td>0</td>\n",
       "      <td>0</td>\n",
       "      <td>3</td>\n",
       "      <td>2020-02-02</td>\n",
       "    </tr>\n",
       "    <tr>\n",
       "      <td>4</td>\n",
       "      <td>5</td>\n",
       "      <td>03/02/20</td>\n",
       "      <td>6:00 PM</td>\n",
       "      <td>Kerala</td>\n",
       "      <td>3</td>\n",
       "      <td>0</td>\n",
       "      <td>0</td>\n",
       "      <td>0</td>\n",
       "      <td>3</td>\n",
       "      <td>2020-02-03</td>\n",
       "    </tr>\n",
       "  </tbody>\n",
       "</table>\n",
       "</div>"
      ],
      "text/plain": [
       "   Sno      Date     Time State/UnionTerritory ConfirmedIndianNational  \\\n",
       "0    1  30/01/20  6:00 PM               Kerala                       1   \n",
       "1    2  31/01/20  6:00 PM               Kerala                       1   \n",
       "2    3  01/02/20  6:00 PM               Kerala                       2   \n",
       "3    4  02/02/20  6:00 PM               Kerala                       3   \n",
       "4    5  03/02/20  6:00 PM               Kerala                       3   \n",
       "\n",
       "  ConfirmedForeignNational  Cured  Deaths  Confirmed    NewDate  \n",
       "0                        0      0       0          1 2020-01-30  \n",
       "1                        0      0       0          1 2020-01-31  \n",
       "2                        0      0       0          2 2020-02-01  \n",
       "3                        0      0       0          3 2020-02-02  \n",
       "4                        0      0       0          3 2020-02-03  "
      ]
     },
     "execution_count": 69,
     "metadata": {},
     "output_type": "execute_result"
    }
   ],
   "source": [
    "df.head()"
   ]
  },
  {
   "cell_type": "code",
   "execution_count": 70,
   "metadata": {},
   "outputs": [],
   "source": [
    "from statsmodels.tsa.stattools import adfuller"
   ]
  },
  {
   "cell_type": "code",
   "execution_count": 71,
   "metadata": {},
   "outputs": [],
   "source": [
    "res = adfuller(data)"
   ]
  },
  {
   "cell_type": "code",
   "execution_count": 72,
   "metadata": {},
   "outputs": [
    {
     "data": {
      "text/plain": [
       "0.838060752455154"
      ]
     },
     "execution_count": 72,
     "metadata": {},
     "output_type": "execute_result"
    }
   ],
   "source": [
    "res[1]"
   ]
  },
  {
   "cell_type": "code",
   "execution_count": 249,
   "metadata": {},
   "outputs": [
    {
     "name": "stdout",
     "output_type": "stream",
     "text": [
      "predicted=7119766261.999531, expected=519.000000\n",
      "predicted=9572820179.541374, expected=606.000000\n",
      "predicted=13808603547.821800, expected=694.000000\n",
      "predicted=21237213409.697411, expected=724.000000\n",
      "predicted=21601666363.688496, expected=909.000000\n",
      "predicted=30975151950.238754, expected=1024.000000\n",
      "predicted=34222637627.205776, expected=1251.000000\n",
      "predicted=34887888074.414146, expected=1397.000000\n",
      "predicted=51513009370.092216, expected=1834.000000\n",
      "predicted=52559772446.904449, expected=2069.000000\n",
      "predicted=67062029714.693718, expected=2547.000000\n",
      "predicted=73310809760.879730, expected=3072.000000\n",
      "predicted=83108333238.091370, expected=3577.000000\n",
      "predicted=110855929419.465439, expected=4281.000000\n",
      "predicted=145042102549.594330, expected=4789.000000\n",
      "predicted=190462546184.866394, expected=5274.000000\n",
      "predicted=231945681036.427429, expected=5865.000000\n",
      "predicted=282787326555.584961, expected=6761.000000\n",
      "predicted=338546458810.887085, expected=7529.000000\n",
      "predicted=388563139557.048218, expected=8447.000000\n",
      "predicted=394512621640.529297, expected=9352.000000\n",
      "predicted=506214589097.458008, expected=10815.000000\n",
      "predicted=569019029313.395874, expected=11933.000000\n",
      "predicted=695991203082.673950, expected=12759.000000\n",
      "predicted=765450295658.168945, expected=13835.000000\n",
      "predicted=1033389987735.102783, expected=14792.000000\n",
      "predicted=1146027750715.195312, expected=16116.000000\n",
      "predicted=1426917273474.913574, expected=17656.000000\n",
      "predicted=1727551258170.258301, expected=18985.000000\n",
      "predicted=2015950226280.843750, expected=20471.000000\n",
      "predicted=2457172639368.528809, expected=21700.000000\n",
      "predicted=2758104168884.441406, expected=23452.000000\n",
      "predicted=3018191699439.187500, expected=24893.000000\n",
      "predicted=3344381972199.511230, expected=26605.000000\n",
      "predicted=3883777681475.905273, expected=28160.000000\n",
      "predicted=4329222127226.483887, expected=29834.000000\n",
      "predicted=4841228399007.398438, expected=31709.000000\n",
      "predicted=5334916446058.888672, expected=33330.000000\n",
      "predicted=6254075417272.274414, expected=34972.000000\n",
      "predicted=6934258412803.107422, expected=37157.000000\n",
      "predicted=7409138036688.509766, expected=40124.000000\n",
      "predicted=8042207293495.255859, expected=42836.000000\n",
      "predicted=8558897732803.250000, expected=46711.000000\n",
      "predicted=9332000660691.269531, expected=49391.000000\n",
      "predicted=10258084334786.761719, expected=52952.000000\n",
      "predicted=11046748764020.375000, expected=56342.000000\n",
      "predicted=11925453030057.826172, expected=59662.000000\n",
      "predicted=12617487720074.232422, expected=62939.000000\n",
      "predicted=13672872560871.328125, expected=67152.000000\n",
      "predicted=14509262522852.734375, expected=70756.000000\n",
      "predicted=15535190208319.968750, expected=74281.000000\n",
      "predicted=16430608806756.564453, expected=78003.000000\n",
      "predicted=17416358628784.677734, expected=81970.000000\n",
      "predicted=18561953872677.855469, expected=85710.000000\n",
      "predicted=19500099578128.828125, expected=90637.000000\n",
      "predicted=20380800728590.257812, expected=95759.000000\n",
      "predicted=21614845709312.574219, expected=100325.000000\n",
      "predicted=23331442772995.328125, expected=106750.000000\n",
      "predicted=24887851165226.488281, expected=112359.000000\n",
      "predicted=27261024663316.187500, expected=118447.000000\n",
      "predicted=28764811338210.160156, expected=125101.000000\n",
      "predicted=30900509002294.605469, expected=131868.000000\n",
      "predicted=32927038649703.550781, expected=138845.000000\n",
      "predicted=34844411231589.652344, expected=145380.000000\n",
      "predicted=36720047338648.664062, expected=151767.000000\n",
      "predicted=39286820385686.859375, expected=158333.000000\n",
      "predicted=41421239958101.484375, expected=165799.000000\n",
      "predicted=43480041819715.445312, expected=173763.000000\n",
      "predicted=45686089786935.507812, expected=182143.000000\n",
      "predicted=47998907730587.070312, expected=190535.000000\n",
      "predicted=50085030467254.062500, expected=198706.000000\n",
      "predicted=53029628307953.484375, expected=207615.000000\n",
      "predicted=56021189282463.515625, expected=216919.000000\n",
      "predicted=58583323673081.992188, expected=226770.000000\n",
      "predicted=62458015023447.859375, expected=236657.000000\n",
      "predicted=65706826536573.593750, expected=246628.000000\n",
      "predicted=69251261706226.562500, expected=256611.000000\n",
      "predicted=73166224604033.921875, expected=266598.000000\n",
      "predicted=77174809849222.500000, expected=276583.000000\n",
      "predicted=81367672776834.171875, expected=286579.000000\n",
      "predicted=85258540016248.843750, expected=297535.000000\n",
      "predicted=88987436660729.390625, expected=308993.000000\n",
      "predicted=92765344536048.156250, expected=320922.000000\n",
      "predicted=97115706778663.953125, expected=332424.000000\n",
      "predicted=101791589881833.000000, expected=343091.000000\n",
      "predicted=106776961058294.218750, expected=354065.000000\n",
      "predicted=111742709462453.937500, expected=366946.000000\n",
      "predicted=116495098598305.000000, expected=380532.000000\n",
      "predicted=121707145552708.937500, expected=395048.000000\n",
      "predicted=127163501726913.718750, expected=410461.000000\n",
      "predicted=132993714928530.593750, expected=425282.000000\n",
      "predicted=138843421388376.062500, expected=440215.000000\n",
      "predicted=144749734068379.937500, expected=456183.000000\n",
      "predicted=150668797199334.218750, expected=473105.000000\n",
      "predicted=156599392343371.750000, expected=490401.000000\n",
      "predicted=162475878943484.343750, expected=508953.000000\n",
      "predicted=168279917783215.281250, expected=528859.000000\n",
      "predicted=174687842249168.843750, expected=548318.000000\n",
      "predicted=181440182850888.312500, expected=566840.000000\n",
      "predicted=188605955206906.187500, expected=585493.000000\n",
      "predicted=195516313936647.031250, expected=604641.000000\n",
      "predicted=201721305702454.625000, expected=625544.000000\n",
      "predicted=208007194988354.375000, expected=648315.000000\n",
      "predicted=215528472533609.468750, expected=673165.000000\n",
      "predicted=223430790729896.312500, expected=697413.000000\n",
      "predicted=231974684195843.406250, expected=719665.000000\n",
      "predicted=241179340098055.718750, expected=742417.000000\n",
      "predicted=249909349051143.625000, expected=767296.000000\n",
      "predicted=258611849341053.125000, expected=793802.000000\n",
      "predicted=267978095619843.031250, expected=820916.000000\n",
      "predicted=277919337600649.687500, expected=849553.000000\n",
      "predicted=287962311485276.375000, expected=878254.000000\n",
      "predicted=298827964891881.375000, expected=906752.000000\n",
      "predicted=310718972388448.125000, expected=936181.000000\n",
      "predicted=322350904766064.750000, expected=968876.000000\n",
      "predicted=333314143511682.937500, expected=1003832.000000\n",
      "predicted=344260305598551.250000, expected=1038716.000000\n",
      "predicted=355356126112156.812500, expected=1077618.000000\n",
      "predicted=367429787377019.250000, expected=1118043.000000\n",
      "predicted=380715887731504.625000, expected=1155191.000000\n",
      "predicted=395617476835067.375000, expected=1192915.000000\n",
      "predicted=410198304975456.375000, expected=1238635.000000\n",
      "predicted=423245875265436.937500, expected=1287945.000000\n",
      "predicted=436440857740253.687500, expected=1336861.000000\n",
      "predicted=451003778743164.375000, expected=1385522.000000\n",
      "predicted=466570254867056.625000, expected=1435453.000000\n",
      "predicted=482474738827864.500000, expected=1483156.000000\n",
      "predicted=499471157357231.125000, expected=1531669.000000\n",
      "predicted=516499507497117.312500, expected=1583792.000000\n",
      "predicted=533147270050896.812500, expected=1638870.000000\n",
      "predicted=550151493285490.625000, expected=1695988.000000\n",
      "predicted=569353760568875.875000, expected=1750723.000000\n",
      "predicted=589875800882049.750000, expected=1803695.000000\n",
      "predicted=610010923336871.000000, expected=1855745.000000\n",
      "predicted=633107583403666.125000, expected=1908254.000000\n",
      "predicted=657480672762900.000000, expected=1964536.000000\n",
      "predicted=679072991776747.500000, expected=2027074.000000\n",
      "predicted=700415523495440.125000, expected=2088611.000000\n",
      "predicted=727163775119960.750000, expected=2153010.000000\n",
      "predicted=756442771905406.625000, expected=2215074.000000\n",
      "predicted=785366785621479.750000, expected=2268675.000000\n",
      "predicted=814204340490527.750000, expected=2329638.000000\n",
      "predicted=844035541742072.250000, expected=2396637.000000\n",
      "predicted=872085542062511.500000, expected=2461190.000000\n",
      "predicted=900329304630652.875000, expected=2526192.000000\n",
      "predicted=930777428265441.125000, expected=2589682.000000\n",
      "predicted=963301297789824.250000, expected=2647663.000000\n",
      "predicted=997470222293702.125000, expected=2702742.000000\n",
      "predicted=1030149893223408.875000, expected=2767273.000000\n",
      "predicted=1061682897357874.250000, expected=2836925.000000\n",
      "predicted=1092355195424476.000000, expected=2905823.000000\n",
      "predicted=1122775856288932.250000, expected=2975701.000000\n",
      "predicted=1155564035309931.500000, expected=3044940.000000\n",
      "predicted=1192512176073612.500000, expected=3106348.000000\n",
      "predicted=1228729315495899.750000, expected=3167323.000000\n",
      "predicted=1267671012804989.500000, expected=3234474.000000\n",
      "predicted=1305014473279532.000000, expected=3310234.000000\n",
      "predicted=1335692448523508.500000, expected=3387500.000000\n",
      "predicted=1371326454807680.750000, expected=3463972.000000\n",
      "predicted=1411222507576033.750000, expected=3542733.000000\n",
      "predicted=1449419425814351.000000, expected=3621245.000000\n",
      "predicted=1488374300572374.500000, expected=3691166.000000\n",
      "predicted=1526844161763016.000000, expected=3769523.000000\n",
      "predicted=1561083403933059.500000, expected=3853406.000000\n",
      "predicted=1592488407705758.750000, expected=3936747.000000\n",
      "predicted=1630257850910340.250000, expected=4023179.000000\n",
      "predicted=1671523397066511.250000, expected=4113811.000000\n",
      "predicted=1712183265148219.750000, expected=4204613.000000\n",
      "predicted=1754063369083543.000000, expected=4280422.000000\n",
      "predicted=1796032117473954.250000, expected=4370128.000000\n",
      "predicted=1832262304935006.500000, expected=4465863.000000\n",
      "predicted=1867336476241185.250000, expected=4562414.000000\n",
      "predicted=1906170200686780.250000, expected=4659984.000000\n",
      "predicted=1950984139689817.500000, expected=4754356.000000\n",
      "predicted=1996690005267593.500000, expected=4846427.000000\n",
      "predicted=2041715828604322.000000, expected=4930236.000000\n",
      "predicted=2088967311740964.500000, expected=5020359.000000\n",
      "predicted=2136014825233007.000000, expected=5118253.000000\n",
      "predicted=2176301364303849.000000, expected=5214677.000000\n",
      "predicted=2222252068657677.500000, expected=5308014.000000\n",
      "predicted=2271926061249808.000000, expected=5400619.000000\n",
      "predicted=2320706011458417.000000, expected=5487580.000000\n",
      "predicted=2371363988685857.500000, expected=5562663.000000\n",
      "predicted=2425990780781035.000000, expected=5646010.000000\n",
      "predicted=2480725762329640.000000, expected=5732518.000000\n",
      "predicted=2523928737026233.500000, expected=5818570.000000\n",
      "predicted=2576430427654976.500000, expected=5903932.000000\n",
      "predicted=2632991937261397.500000, expected=5992532.000000\n",
      "predicted=2690194041549526.500000, expected=6074702.000000\n",
      "predicted=2748385140083279.000000, expected=6145291.000000\n",
      "predicted=2805071256707162.000000, expected=6225763.000000\n",
      "predicted=2860256769865425.000000, expected=6312584.000000\n",
      "predicted=2908852237043273.000000, expected=6394068.000000\n",
      "predicted=2961504516253662.000000, expected=6473544.000000\n",
      "predicted=3019805342790980.500000, expected=6549373.000000\n",
      "predicted=3077179311264022.500000, expected=6623815.000000\n",
      "predicted=3132747223536132.500000, expected=6685082.000000\n",
      "predicted=3188914959618262.000000, expected=6757131.000000\n",
      "predicted=3241295711815145.000000, expected=6835655.000000\n",
      "predicted=3284766822090588.500000, expected=6906151.000000\n",
      "predicted=3333874326154764.000000, expected=6979423.000000\n",
      "predicted=3385243691018036.000000, expected=7053806.000000\n",
      "predicted=3436012527068590.000000, expected=7120538.000000\n",
      "predicted=3486490704443065.000000, expected=7175880.000000\n",
      "predicted=3540388641442928.000000, expected=7239389.000000\n",
      "predicted=3589838593555148.500000, expected=7307097.000000\n",
      "predicted=3630264383027242.500000, expected=7370468.000000\n",
      "predicted=3677534501718958.500000, expected=7432680.000000\n",
      "predicted=3729604435028877.000000, expected=7494551.000000\n",
      "predicted=3778197567124508.500000, expected=7550273.000000\n",
      "predicted=3825633582750621.500000, expected=7597063.000000\n",
      "predicted=3871534454911033.000000, expected=7651107.000000\n",
      "predicted=3916506626605234.500000, expected=7706946.000000\n",
      "predicted=3951294539253310.000000, expected=7761312.000000\n",
      "predicted=3993775802274107.000000, expected=7814682.000000\n",
      "predicted=4040993613708840.000000, expected=7864811.000000\n",
      "predicted=4082281814733716.000000, expected=7909959.000000\n",
      "predicted=4125874049181230.000000, expected=7946429.000000\n",
      "predicted=4171433725592899.000000, expected=7990322.000000\n",
      "predicted=4211778406856954.500000, expected=8040203.000000\n",
      "predicted=4243466968549376.500000, expected=8088851.000000\n",
      "predicted=4280883715301297.000000, expected=8137119.000000\n",
      "predicted=4321494472507135.000000, expected=8184082.000000\n",
      "predicted=4359069721836220.000000, expected=8229313.000000\n",
      "predicted=4396208389367729.000000, expected=8267623.000000\n",
      "predicted=4434050297339268.000000, expected=8313876.000000\n",
      "predicted=4467647343935723.000000, expected=8364086.000000\n",
      "predicted=4494519294385982.500000, expected=8411724.000000\n",
      "predicted=4526420196062884.000000, expected=8462080.000000\n",
      "predicted=4559664798621596.000000, expected=8507754.000000\n",
      "predicted=4592045029215396.000000, expected=8553657.000000\n",
      "predicted=4624183618670004.000000, expected=8591730.000000\n",
      "predicted=4654952599859262.000000, expected=8636011.000000\n",
      "predicted=4682296305759012.000000, expected=8683916.000000\n",
      "predicted=4702826582472645.000000, expected=8728795.000000\n",
      "predicted=4728276707793071.000000, expected=8773479.000000\n",
      "predicted=4757967672192572.000000, expected=8814579.000000\n",
      "predicted=4786842670751260.000000, expected=8845127.000000\n",
      "predicted=4815619671723553.000000, expected=8874290.000000\n",
      "predicted=4844085894009985.000000, expected=8912907.000000\n",
      "predicted=4871239948738606.000000, expected=8958483.000000\n",
      "predicted=4892909710992061.000000, expected=9004365.000000\n",
      "predicted=4920054652568114.000000, expected=9050597.000000\n",
      "predicted=4949894889938283.000000, expected=9095806.000000\n",
      "predicted=4978041104542101.000000, expected=9139865.000000\n",
      "predicted=5008289087770671.000000, expected=9177840.000000\n",
      "predicted=5035814424845958.000000, expected=9222216.000000\n",
      "predicted=5063544097185100.000000, expected=9266705.000000\n",
      "predicted=5085255408349820.000000, expected=9309787.000000\n",
      "predicted=5111271584139603.000000, expected=9351109.000000\n",
      "predicted=5139898441381215.000000, expected=9392919.000000\n",
      "predicted=5166555245149053.000000, expected=9431691.000000\n",
      "predicted=5193951352580038.000000, expected=9462809.000000\n",
      "predicted=5219604673974396.000000, expected=9499413.000000\n",
      "predicted=5237456519392983.000000, expected=9534964.000000\n",
      "predicted=5253417847094542.000000, expected=9571559.000000\n",
      "predicted=5275571839144725.000000, expected=9608211.000000\n",
      "predicted=5302520502937499.000000, expected=9644222.000000\n",
      "predicted=5329679864277262.000000, expected=9677203.000000\n",
      "predicted=5357198869913816.000000, expected=9703770.000000\n",
      "predicted=5384490555929696.000000, expected=9735850.000000\n",
      "Test RMSE: 2409624582247326.500\n"
     ]
    },
    {
     "data": {
      "image/png": "[encoded data removed]",
      "text/plain": [
       "<Figure size 720x216 with 1 Axes>"
      ]
     },
     "metadata": {
      "needs_background": "light"
     },
     "output_type": "display_data"
    }
   ],
   "source": [
    "X = data.values\n",
    "train, test = X[0:54], X[54:]\n",
    "model = AutoReg(train, lags=26)\n",
    "model_fit = model.fit()\n",
    "coef = model_fit.params\n",
    "# walk forward over time steps in test\n",
    "window = 17\n",
    "history = train[len(train)-window:]\n",
    "history = [history[i] for i in range(len(history))]\n",
    "predictions = list()\n",
    "for t in range(len(test)):\n",
    "    length = len(history)\n",
    "    lag = [history[i] for i in range(length-window,length)]\n",
    "    yhat = coef[0]\n",
    "    for d in range(window):\n",
    "        yhat += coef[d+1] * lag[window-d-1]\n",
    "    obs = test[t]\n",
    "    predictions.append(yhat)\n",
    "    history.append(obs)\n",
    "    print('predicted=%f, expected=%f' % (yhat, obs))\n",
    "rmse = sqrt(mean_squared_error(test, predictions))\n",
    "print('Test RMSE: %.3f' % rmse)\n",
    "# plot\n",
    "fig = plt.figure(figsize = (10,3))\n",
    "plt.plot(test)\n",
    "plt.plot(predictions, color='red')\n",
    "plt.show()"
   ]
  },
  {
   "cell_type": "code",
   "execution_count": 18,
   "metadata": {},
   "outputs": [],
   "source": [
    "tots = df.groupby(['NewDate']).sum()"
   ]
  },
  {
   "cell_type": "code",
   "execution_count": 21,
   "metadata": {},
   "outputs": [],
   "source": [
    "tots = tots.drop(['Sno','Cured','Deaths'], axis = 1)"
   ]
  },
  {
   "cell_type": "code",
   "execution_count": 23,
   "metadata": {},
   "outputs": [
    {
     "data": {
      "text/plain": [
       "[<matplotlib.lines.Line2D at 0x1a097d9ef48>]"
      ]
     },
     "execution_count": 23,
     "metadata": {},
     "output_type": "execute_result"
    },
    {
     "data": {
      "image/png": "[encoded data removed]",
      "text/plain": [
       "<Figure size 432x288 with 1 Axes>"
      ]
     },
     "metadata": {
      "needs_background": "light"
     },
     "output_type": "display_data"
    }
   ],
   "source": [
    "plt.plot(tots.values)"
   ]
  },
  {
   "cell_type": "code",
   "execution_count": 24,
   "metadata": {},
   "outputs": [
    {
     "data": {
      "text/html": [
       "<div>\n",
       "<style scoped>\n",
       "    .dataframe tbody tr th:only-of-type {\n",
       "        vertical-align: middle;\n",
       "    }\n",
       "\n",
       "    .dataframe tbody tr th {\n",
       "        vertical-align: top;\n",
       "    }\n",
       "\n",
       "    .dataframe thead th {\n",
       "        text-align: right;\n",
       "    }\n",
       "</style>\n",
       "<table border=\"1\" class=\"dataframe\">\n",
       "  <thead>\n",
       "    <tr style=\"text-align: right;\">\n",
       "      <th></th>\n",
       "      <th>Sno</th>\n",
       "      <th>Date</th>\n",
       "      <th>Time</th>\n",
       "      <th>State/UnionTerritory</th>\n",
       "      <th>ConfirmedIndianNational</th>\n",
       "      <th>ConfirmedForeignNational</th>\n",
       "      <th>Cured</th>\n",
       "      <th>Deaths</th>\n",
       "      <th>Confirmed</th>\n",
       "      <th>NewDate</th>\n",
       "    </tr>\n",
       "  </thead>\n",
       "  <tbody>\n",
       "    <tr>\n",
       "      <td>9191</td>\n",
       "      <td>9192</td>\n",
       "      <td>07/12/20</td>\n",
       "      <td>8:00 AM</td>\n",
       "      <td>Chandigarh</td>\n",
       "      <td>-</td>\n",
       "      <td>-</td>\n",
       "      <td>16814</td>\n",
       "      <td>291</td>\n",
       "      <td>18027</td>\n",
       "      <td>2020-12-07</td>\n",
       "    </tr>\n",
       "    <tr>\n",
       "      <td>9192</td>\n",
       "      <td>9193</td>\n",
       "      <td>07/12/20</td>\n",
       "      <td>8:00 AM</td>\n",
       "      <td>Chhattisgarh</td>\n",
       "      <td>-</td>\n",
       "      <td>-</td>\n",
       "      <td>223772</td>\n",
       "      <td>2989</td>\n",
       "      <td>246809</td>\n",
       "      <td>2020-12-07</td>\n",
       "    </tr>\n",
       "    <tr>\n",
       "      <td>9193</td>\n",
       "      <td>9194</td>\n",
       "      <td>07/12/20</td>\n",
       "      <td>8:00 AM</td>\n",
       "      <td>Dadra and Nagar Haveli and Daman and Diu</td>\n",
       "      <td>-</td>\n",
       "      <td>-</td>\n",
       "      <td>3326</td>\n",
       "      <td>2</td>\n",
       "      <td>3342</td>\n",
       "      <td>2020-12-07</td>\n",
       "    </tr>\n",
       "    <tr>\n",
       "      <td>9194</td>\n",
       "      <td>9195</td>\n",
       "      <td>07/12/20</td>\n",
       "      <td>8:00 AM</td>\n",
       "      <td>Delhi</td>\n",
       "      <td>-</td>\n",
       "      <td>-</td>\n",
       "      <td>557914</td>\n",
       "      <td>9643</td>\n",
       "      <td>592250</td>\n",
       "      <td>2020-12-07</td>\n",
       "    </tr>\n",
       "    <tr>\n",
       "      <td>9195</td>\n",
       "      <td>9196</td>\n",
       "      <td>07/12/20</td>\n",
       "      <td>8:00 AM</td>\n",
       "      <td>Goa</td>\n",
       "      <td>-</td>\n",
       "      <td>-</td>\n",
       "      <td>46624</td>\n",
       "      <td>698</td>\n",
       "      <td>48686</td>\n",
       "      <td>2020-12-07</td>\n",
       "    </tr>\n",
       "    <tr>\n",
       "      <td>...</td>\n",
       "      <td>...</td>\n",
       "      <td>...</td>\n",
       "      <td>...</td>\n",
       "      <td>...</td>\n",
       "      <td>...</td>\n",
       "      <td>...</td>\n",
       "      <td>...</td>\n",
       "      <td>...</td>\n",
       "      <td>...</td>\n",
       "      <td>...</td>\n",
       "    </tr>\n",
       "    <tr>\n",
       "      <td>9286</td>\n",
       "      <td>9287</td>\n",
       "      <td>09/12/20</td>\n",
       "      <td>8:00 AM</td>\n",
       "      <td>Telengana</td>\n",
       "      <td>-</td>\n",
       "      <td>-</td>\n",
       "      <td>266120</td>\n",
       "      <td>1480</td>\n",
       "      <td>275261</td>\n",
       "      <td>2020-12-09</td>\n",
       "    </tr>\n",
       "    <tr>\n",
       "      <td>9287</td>\n",
       "      <td>9288</td>\n",
       "      <td>09/12/20</td>\n",
       "      <td>8:00 AM</td>\n",
       "      <td>Tripura</td>\n",
       "      <td>-</td>\n",
       "      <td>-</td>\n",
       "      <td>32169</td>\n",
       "      <td>373</td>\n",
       "      <td>32945</td>\n",
       "      <td>2020-12-09</td>\n",
       "    </tr>\n",
       "    <tr>\n",
       "      <td>9288</td>\n",
       "      <td>9289</td>\n",
       "      <td>09/12/20</td>\n",
       "      <td>8:00 AM</td>\n",
       "      <td>Uttarakhand</td>\n",
       "      <td>-</td>\n",
       "      <td>-</td>\n",
       "      <td>72435</td>\n",
       "      <td>1307</td>\n",
       "      <td>79141</td>\n",
       "      <td>2020-12-09</td>\n",
       "    </tr>\n",
       "    <tr>\n",
       "      <td>9289</td>\n",
       "      <td>9290</td>\n",
       "      <td>09/12/20</td>\n",
       "      <td>8:00 AM</td>\n",
       "      <td>Uttar Pradesh</td>\n",
       "      <td>-</td>\n",
       "      <td>-</td>\n",
       "      <td>528832</td>\n",
       "      <td>7967</td>\n",
       "      <td>558173</td>\n",
       "      <td>2020-12-09</td>\n",
       "    </tr>\n",
       "    <tr>\n",
       "      <td>9290</td>\n",
       "      <td>9291</td>\n",
       "      <td>09/12/20</td>\n",
       "      <td>8:00 AM</td>\n",
       "      <td>West Bengal</td>\n",
       "      <td>-</td>\n",
       "      <td>-</td>\n",
       "      <td>475425</td>\n",
       "      <td>8820</td>\n",
       "      <td>507995</td>\n",
       "      <td>2020-12-09</td>\n",
       "    </tr>\n",
       "  </tbody>\n",
       "</table>\n",
       "<p>100 rows × 10 columns</p>\n",
       "</div>"
      ],
      "text/plain": [
       "       Sno      Date     Time                      State/UnionTerritory  \\\n",
       "9191  9192  07/12/20  8:00 AM                                Chandigarh   \n",
       "9192  9193  07/12/20  8:00 AM                              Chhattisgarh   \n",
       "9193  9194  07/12/20  8:00 AM  Dadra and Nagar Haveli and Daman and Diu   \n",
       "9194  9195  07/12/20  8:00 AM                                     Delhi   \n",
       "9195  9196  07/12/20  8:00 AM                                       Goa   \n",
       "...    ...       ...      ...                                       ...   \n",
       "9286  9287  09/12/20  8:00 AM                                 Telengana   \n",
       "9287  9288  09/12/20  8:00 AM                                   Tripura   \n",
       "9288  9289  09/12/20  8:00 AM                               Uttarakhand   \n",
       "9289  9290  09/12/20  8:00 AM                             Uttar Pradesh   \n",
       "9290  9291  09/12/20  8:00 AM                               West Bengal   \n",
       "\n",
       "     ConfirmedIndianNational ConfirmedForeignNational   Cured  Deaths  \\\n",
       "9191                       -                        -   16814     291   \n",
       "9192                       -                        -  223772    2989   \n",
       "9193                       -                        -    3326       2   \n",
       "9194                       -                        -  557914    9643   \n",
       "9195                       -                        -   46624     698   \n",
       "...                      ...                      ...     ...     ...   \n",
       "9286                       -                        -  266120    1480   \n",
       "9287                       -                        -   32169     373   \n",
       "9288                       -                        -   72435    1307   \n",
       "9289                       -                        -  528832    7967   \n",
       "9290                       -                        -  475425    8820   \n",
       "\n",
       "      Confirmed    NewDate  \n",
       "9191      18027 2020-12-07  \n",
       "9192     246809 2020-12-07  \n",
       "9193       3342 2020-12-07  \n",
       "9194     592250 2020-12-07  \n",
       "9195      48686 2020-12-07  \n",
       "...         ...        ...  \n",
       "9286     275261 2020-12-09  \n",
       "9287      32945 2020-12-09  \n",
       "9288      79141 2020-12-09  \n",
       "9289     558173 2020-12-09  \n",
       "9290     507995 2020-12-09  \n",
       "\n",
       "[100 rows x 10 columns]"
      ]
     },
     "execution_count": 24,
     "metadata": {},
     "output_type": "execute_result"
    }
   ],
   "source": [
    "df.tail(100)"
   ]
  },
  {
   "cell_type": "code",
   "execution_count": null,
   "metadata": {},
   "outputs": [],
   "source": []
  }
 ],
 "metadata": {
  "kernelspec": {
   "display_name": "Python 3",
   "language": "python",
   "name": "python3"
  },
  "language_info": {
   "codemirror_mode": {
    "name": "ipython",
    "version": 3
   },
   "file_extension": ".py",
   "mimetype": "text/x-python",
   "name": "python",
   "nbconvert_exporter": "python",
   "pygments_lexer": "ipython3",
   "version": "3.7.4"
  }
 },
 "nbformat": 4,
 "nbformat_minor": 2
}
